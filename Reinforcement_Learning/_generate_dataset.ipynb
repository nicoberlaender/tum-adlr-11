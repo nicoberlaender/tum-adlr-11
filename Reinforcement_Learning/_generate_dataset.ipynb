{
 "cells": [
  {
   "cell_type": "markdown",
   "metadata": {},
   "source": [
    "Load files from the segmap folder and create a data folder with 80% train and 20% test."
   ]
  },
  {
   "cell_type": "code",
   "execution_count": 3,
   "metadata": {},
   "outputs": [
    {
     "name": "stdout",
     "output_type": "stream",
     "text": [
      "Copied 120636 files to train folder\n",
      "Copied 30160 files to test folder\n"
     ]
    }
   ],
   "source": [
    "import os\n",
    "import shutil\n",
    "import random\n",
    "\n",
    "# Create directories if they don't exist\n",
    "os.makedirs('data/train', exist_ok=True)\n",
    "os.makedirs('data/test', exist_ok=True)\n",
    "\n",
    "# Get all files from segmap folder\n",
    "segmap_files = os.listdir('segmaps')\n",
    "\n",
    "# Shuffle files randomly\n",
    "random.shuffle(segmap_files)\n",
    "\n",
    "# Calculate split point (80% for training)\n",
    "split_point = int(len(segmap_files) * 0.8)\n",
    "\n",
    "# Split files into train and test sets\n",
    "train_files = segmap_files[:split_point]\n",
    "test_files = segmap_files[split_point:]\n",
    "\n",
    "# Copy files to respective directories\n",
    "for file in train_files:\n",
    "    shutil.copy(os.path.join('segmaps', file), os.path.join('data/train', file))\n",
    "\n",
    "for file in test_files:\n",
    "    shutil.copy(os.path.join('segmaps', file), os.path.join('data/test', file))\n",
    "\n",
    "print(f\"Copied {len(train_files)} files to train folder\")\n",
    "print(f\"Copied {len(test_files)} files to test folder\")"
   ]
  }
 ],
 "metadata": {
  "kernelspec": {
   "display_name": "Python 3",
   "language": "python",
   "name": "python3"
  },
  "language_info": {
   "codemirror_mode": {
    "name": "ipython",
    "version": 3
   },
   "file_extension": ".py",
   "mimetype": "text/x-python",
   "name": "python",
   "nbconvert_exporter": "python",
   "pygments_lexer": "ipython3",
   "version": "3.11.10"
  }
 },
 "nbformat": 4,
 "nbformat_minor": 2
}
