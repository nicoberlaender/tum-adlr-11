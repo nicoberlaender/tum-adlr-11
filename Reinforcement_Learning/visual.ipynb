{
 "cells": [
  {
   "cell_type": "code",
   "execution_count": null,
   "metadata": {},
   "outputs": [],
   "source": [
    "from stable_baselines3 import PPO\n",
    "import os\n",
    "\n",
    "# ID del run salvato su WandB\n",
    "run_id = \"9dlxtrvm\"  # Sostituisci con l'ID del tuo run salvato\n",
    "\n",
    "# Percorso del modello\n",
    "model_path = f\"models/{run_id}/model\"\n",
    "\n",
    "# Carica il modello\n",
    "loaded_model = PPO.load(model_path)\n",
    "\n"
   ]
  },
  {
   "cell_type": "code",
   "execution_count": null,
   "metadata": {},
   "outputs": [],
   "source": [
    "#Enviroment set up\n",
    "import wandb\n",
    "from stable_baselines3 import PPO\n",
    "from test_env2 import TestEnvironment2\n",
    "from wandb.integration.sb3 import WandbCallback\n",
    "from stable_baselines3.common.vec_env import DummyVecEnv, VecVideoRecorder\n",
    "import os\n",
    "\n",
    "current_path = os.getcwd()\n",
    "parent_path = os.path.dirname(current_path)\n",
    "data_path = os.path.join(parent_path, \"data_new\")\n",
    "\n",
    "env = TestEnvironment2((224, 224), 15, data_path, render_mode = 'human')\n",
    "\n"
   ]
  },
  {
   "cell_type": "code",
   "execution_count": null,
   "metadata": {},
   "outputs": [],
   "source": [
    "num_episodes = 5\n",
    "counter = 0\n",
    "\n",
    "print(f\"Starting environment rendering for {num_episodes} episodes...\")\n",
    "obs, info = env.reset()\n",
    "while counter < num_episodes:\n",
    "    # Get action from the model based on the current observation\n",
    "    action, _ = loaded_model.predict(obs, deterministic=False)\n",
    "    obs, reward, done, truncated, info = env.step(action)\n",
    "\n",
    "    env.render()  # Render the environment for visualization\n",
    "\n",
    "    # Provide feedback to the user\n",
    "    print(f\"Episode {counter + 1}:\")\n",
    "    print(f\"  Action Taken: {action}\")\n",
    "    print(f\"  Reward Received: {reward}\")\n",
    "    print(f\"  Done: {done}, Truncated: {truncated}\")\n",
    "\n",
    "    if done or truncated:\n",
    "        print(f\"Episode {counter + 1} finished. Resetting environment...\")\n",
    "        counter += 1\n",
    "        obs, info = env.reset()\n",
    "\n",
    "print(\"All episodes completed. Exiting...\")\n",
    "\n",
    "env.close()"
   ]
  }
 ],
 "metadata": {
  "kernelspec": {
   "display_name": "Python 3",
   "language": "python",
   "name": "python3"
  },
  "language_info": {
   "codemirror_mode": {
    "name": "ipython",
    "version": 3
   },
   "file_extension": ".py",
   "mimetype": "text/x-python",
   "name": "python",
   "nbconvert_exporter": "python",
   "pygments_lexer": "ipython3",
   "version": "3.11.10"
  }
 },
 "nbformat": 4,
 "nbformat_minor": 2
}
