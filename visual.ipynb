{
 "cells": [
  {
   "cell_type": "code",
   "execution_count": 1,
   "metadata": {},
   "outputs": [
    {
     "ename": "ModuleNotFoundError",
     "evalue": "No module named 'utils'",
     "output_type": "error",
     "traceback": [
      "\u001b[1;31m---------------------------------------------------------------------------\u001b[0m",
      "\u001b[1;31mModuleNotFoundError\u001b[0m                       Traceback (most recent call last)",
      "Cell \u001b[1;32mIn[1], line 13\u001b[0m\n\u001b[0;32m     10\u001b[0m \u001b[38;5;28;01mimport\u001b[39;00m \u001b[38;5;21;01mrandom\u001b[39;00m\n\u001b[0;32m     11\u001b[0m \u001b[38;5;28;01mimport\u001b[39;00m \u001b[38;5;21;01mos\u001b[39;00m\n\u001b[1;32m---> 13\u001b[0m \u001b[38;5;28;01mfrom\u001b[39;00m \u001b[38;5;21;01mutils\u001b[39;00m \u001b[38;5;28;01mimport\u001b[39;00m shoot_ray\n\u001b[0;32m     14\u001b[0m \u001b[38;5;28;01mfrom\u001b[39;00m \u001b[38;5;21;01mdataset\u001b[39;00m\u001b[38;5;21;01m.\u001b[39;00m\u001b[38;5;21;01mpreprocessing\u001b[39;00m \u001b[38;5;28;01mimport\u001b[39;00m pil_to_binary\n",
      "\u001b[1;31mModuleNotFoundError\u001b[0m: No module named 'utils'"
     ]
    }
   ],
   "source": [
    "import numpy as np\n",
    "import matplotlib.pyplot as plt\n",
    "import torch\n",
    "from PIL import Image\n",
    "import torchvision.transforms as transforms\n",
    "import numpy as np\n",
    "import torch\n",
    "import matplotlib.pyplot as plt\n",
    "import glob\n",
    "import random\n",
    "import os\n",
    "\n",
    "from utils import shoot_ray\n",
    "from dataset.preprocessing import pil_to_binary\n"
   ]
  },
  {
   "cell_type": "code",
   "execution_count": null,
   "metadata": {},
   "outputs": [],
   "source": [
    "# Specify the device\n",
    "device = 'cpu'\n",
    "if torch.cuda.is_available():\n",
    "    device = 'cuda'\n",
    "elif torch.backends.mps.is_available():\n",
    "   device = 'mps'\n",
    "\n",
    "# Load the model and map it to the GPU\n",
    "model = torch.load(\"saved_models/model_full_old.pth\", map_location=device)\n",
    "ray_model = torch.load(\"saved_models/model_full_with_rays.pth\", map_location=device)\n",
    "\n",
    "# Set the model to evaluation mode\n",
    "model.eval()\n",
    "#ray_model.eval()\n",
    "\n",
    "print(\"Model loaded onto\", device)"
   ]
  },
  {
   "cell_type": "code",
   "execution_count": null,
   "metadata": {},
   "outputs": [],
   "source": [
    "num_runs = 15\n",
    "image_files = glob.glob('./data_new/*.png')\n",
    "\n",
    "for run in range(num_runs):\n",
    "    # Randomly select one image\n",
    "    target_image_path = random.choice(image_files)\n",
    "    target_image = Image.open(target_image_path).convert('L')\n",
    "    target_image = pil_to_binary(target_image)\n",
    "    # Save target image to plots directory\n",
    "    os.makedirs(f\"./plots/{run}\", exist_ok=True)\n",
    "    plt.imsave(f\"./plots/{run}/target_image.png\", target_image, cmap='gray')\n",
    "\n",
    "    # Random agent simulation\n",
    "    # Assuming target_image is a numpy array or similar object\n",
    "    width, height = target_image.shape  # .shape is an attribute, not a method\n",
    "    print(width, height)\n",
    "    \n",
    "    num_samples = 15\n",
    "    i=0\n",
    "    \n",
    "    # Create a black image\n",
    "    image_black = np.zeros((width, height), dtype=np.int8)\n",
    "    image_with_rays = image_black.copy()\n",
    "    \n",
    "    while (i<num_samples):\n",
    "        # Generate random border and angle for ray shooting\n",
    "        border = np.random.randint(2 * (width + height))\n",
    "        angle = np.random.randint(360)\n",
    "        \n",
    "        # Perform ray shooting\n",
    "        pixels, hit = shoot_ray(target_image, border, angle)\n",
    "        \n",
    "        if hit is None:\n",
    "            continue\n",
    "        else:\n",
    "            image_black[hit[1], hit[0]] = 1\n",
    "            image_with_rays[hit[1], hit[0]] = 1\n",
    "            for pixel in pixels:\n",
    "                image_with_rays[pixel[1], pixel[0]] = -1\n",
    "    \n",
    "        print(f\"Selected Border Point (x, y): {border}\")\n",
    "        print(f\"Ray Shooting Angle: {angle} degrees\")\n",
    "    \n",
    "        print(f\"Ray Shooting Result: (x, y) = ({hit[1]}, {hit[0]})\")\n",
    "        print(f\"Angle for Ray: {angle} degrees\")\n",
    "        # Convert input array to a tensor suitable for the model\n",
    "        input_tensor = torch.tensor(image_black, dtype=torch.float32).unsqueeze(0)  # Add batch dimension\n",
    "        input_tensor_with_rays = torch.tensor(image_with_rays, dtype=torch.float32).unsqueeze(0)  # Add batch dimension\n",
    "        input_tensor = input_tensor.unsqueeze(1)  # Add channel dimension\n",
    "        input_tensor_with_rays = input_tensor_with_rays.unsqueeze(1)  # Add channel dimension\n",
    "        input_tensor = input_tensor.to(device)  # Move the tensor to the GPU\n",
    "        input_tensor_with_rays = input_tensor_with_rays.to(device)\n",
    "    \n",
    "        # Evaluate the model\n",
    "        with torch.no_grad():  # Disable gradient calculation for evaluation\n",
    "            output = model(input_tensor)  # Get the model's predictions\n",
    "            output_with_rays = ray_model(input_tensor_with_rays)\n",
    "    \n",
    "        # Convert the model output to a probability map and binary mask\n",
    "        output_image = output[0][0].cpu().numpy()  # Get the first output channel as a numpy array\n",
    "        output_image_with_rays = output_with_rays[0][0].cpu().numpy()  # Get the first output channel as a numpy array\n",
    "        binary_output = (output_image > 0.5).astype(np.uint8)  # Thresholding to create a binary mask\n",
    "        binary_output_with_rays = (output_image_with_rays > 0.5).astype(np.uint8)  # Thresholding to create a binary mask\n",
    "    \n",
    "        # Print shape of the output image and binary output for clarity\n",
    "        print(f\"Output Image Shape: {output_image.shape}\")\n",
    "        print(f\"Binary Mask Shape: {binary_output.shape}\")\n",
    "    \n",
    "        # Visualization using Matplotlib\n",
    "        plt.figure(figsize=(20, 5))\n",
    "    \n",
    "        \n",
    "    \n",
    "        found_points = np.where(image_black == 1)\n",
    "        plt.subplot(1, 5, 1)\n",
    "        plt.imshow(binary_output, cmap='gray')\n",
    "        #plt.scatter(found_points[1], found_points[0], color='green', s=10, label='Found Points')\n",
    "        #if x is not None and y is not None:\n",
    "        #    plt.scatter(y, x, color='red', s=25, label='Current Point')\n",
    "        plt.title('Binary Output with Points')\n",
    "        plt.axis('off')\n",
    "        # Add an arrow for the angle\n",
    "        #arrow_length = 20  # Adjust the length of the arrow\n",
    "        #arrow_dx = arrow_length * np.cos(np.radians(angle))  # Calculate arrow x component\n",
    "        #arrow_dy = arrow_length * np.sin(np.radians(angle))  # Calculate arrow y component\n",
    "        #plt.arrow(border[1], border[0], arrow_dy, arrow_dx, head_width=5, head_length=10, fc='red', ec='red', label='Angle')\n",
    "\n",
    "        #plot image with rays\n",
    "        plt.subplot(1, 5, 4)\n",
    "        plt.imshow(binary_output_with_rays, cmap='gray')\n",
    "        plt.title('Binary Output with Rays')\n",
    "        plt.axis('off')\n",
    "\n",
    "        #probability heatmap with rays\n",
    "        plt.subplot(1, 5, 5)\n",
    "        plt.imshow(output_image_with_rays, cmap='jet')\n",
    "        plt.title('Probability Heatmap with Rays')\n",
    "        plt.axis('off')\n",
    "    \n",
    "        # Probability heatmap\n",
    "        plt.subplot(1, 5, 2)\n",
    "        plt.imshow(output_image, cmap='jet')\n",
    "        plt.title('Probability Heatmap')\n",
    "        plt.axis('off')\n",
    "    \n",
    "        plt.subplot(1, 5, 3)\n",
    "        plt.imshow(target_image, cmap='gray')\n",
    "        plt.title('Target Image')\n",
    "        plt.axis('off')\n",
    "\n",
    "        #Save the plot to /plots\n",
    "        plt.savefig(f\"./plots/{run}/{i}.png\", bbox_inches='tight', dpi=100)\n",
    "        plt.close()\n",
    "\n",
    "        i = i+1"
   ]
  },
  {
   "cell_type": "code",
   "execution_count": 15,
   "metadata": {},
   "outputs": [
    {
     "name": "stderr",
     "output_type": "stream",
     "text": [
      "c:\\Users\\iacop\\anaconda3\\envs\\rl_ENV\\lib\\site-packages\\stable_baselines3\\common\\on_policy_algorithm.py:150: UserWarning: You are trying to run PPO on the GPU, but it is primarily intended to run on the CPU when not using a CNN policy (you are using ActorCriticPolicy which should be a MlpPolicy). See https://github.com/DLR-RM/stable-baselines3/issues/1245 for more info. You can pass `device='cpu'` or `export CUDA_VISIBLE_DEVICES=` to force using the CPU.Note: The model will train, but the GPU utilization will be poor and the training might take longer than on CPU.\n",
      "  warnings.warn(\n"
     ]
    }
   ],
   "source": [
    "from stable_baselines3 import PPO\n",
    "\n",
    "# ID del run salvato su WandB\n",
    "run_id = \"4yagr1q9\"  # Sostituisci con l'ID del tuo run salvato\n",
    "\n",
    "# Percorso del modello\n",
    "model_path = f\"models/{run_id}/model.zip\"\n",
    "\n",
    "# Carica il modello\n",
    "loaded_model = PPO.load(model_path)\n",
    "\n"
   ]
  },
  {
   "cell_type": "code",
   "execution_count": 16,
   "metadata": {},
   "outputs": [
    {
     "name": "stderr",
     "output_type": "stream",
     "text": [
      "c:\\Users\\iacop\\OneDrive - TUM\\Desktop\\Programmazione\\Github\\tum-adlr-11\\Reinforcement_Learning\\test_env2.py:57: FutureWarning: You are using `torch.load` with `weights_only=False` (the current default value), which uses the default pickle module implicitly. It is possible to construct malicious pickle data which will execute arbitrary code during unpickling (See https://github.com/pytorch/pytorch/blob/main/SECURITY.md#untrusted-models for more details). In a future release, the default value for `weights_only` will be flipped to `True`. This limits the functions that could be executed during unpickling. Arbitrary objects will no longer be allowed to be loaded via this mode unless they are explicitly allowlisted by the user via `torch.serialization.add_safe_globals`. We recommend you start setting `weights_only=True` for any use case where you don't have full control of the loaded file. Please open an issue on GitHub for any issues related to this experimental feature.\n",
      "  self.unet = torch.load(\"Reinforcement_Learning/saved_models/model_full.pth\", map_location=self.device)\n"
     ]
    }
   ],
   "source": [
    "#Enviroment set up\n",
    "import wandb\n",
    "from stable_baselines3 import PPO\n",
    "from Reinforcement_Learning.test_env2 import TestEnvironment2\n",
    "from wandb.integration.sb3 import WandbCallback\n",
    "from stable_baselines3.common.vec_env import DummyVecEnv, VecVideoRecorder\n",
    "\n",
    "env = TestEnvironment2((224, 224), 15, \"data_new/data_new\", render_mode = 'human')\n",
    "\n",
    "# Wrap the environment with DummyVecEnv (required by VecVideoRecorder)\n",
    "vec_env = DummyVecEnv([lambda: env])\n"
   ]
  },
  {
   "cell_type": "code",
   "execution_count": 17,
   "metadata": {},
   "outputs": [
    {
     "name": "stdout",
     "output_type": "stream",
     "text": [
      "Starting environment rendering for 5 episodes...\n"
     ]
    },
    {
     "data": {
      "image/png": "[encoded data removed]",
      "text/plain": [
       "<Figure size 640x480 with 1 Axes>"
      ]
     },
     "metadata": {},
     "output_type": "display_data"
    },
    {
     "name": "stdout",
     "output_type": "stream",
     "text": [
      "Episode 1:\n",
      "  Action Taken: [-0.05200922  0.2234346 ]\n",
      "  Reward Received: 1\n",
      "  Done: False, Truncated: False\n"
     ]
    },
    {
     "data": {
      "image/png": "[encoded data removed]",
      "text/plain": [
       "<Figure size 640x480 with 1 Axes>"
      ]
     },
     "metadata": {},
     "output_type": "display_data"
    },
    {
     "name": "stdout",
     "output_type": "stream",
     "text": [
      "Episode 1:\n",
      "  Action Taken: [0.15373036 0.43104506]\n",
      "  Reward Received: 1\n",
      "  Done: False, Truncated: False\n"
     ]
    },
    {
     "data": {
      "image/png": "[encoded data removed]",
      "text/plain": [
       "<Figure size 640x480 with 1 Axes>"
      ]
     },
     "metadata": {},
     "output_type": "display_data"
    },
    {
     "name": "stdout",
     "output_type": "stream",
     "text": [
      "Episode 1:\n",
      "  Action Taken: [-0.05200922  0.2234346 ]\n",
      "  Reward Received: 1\n",
      "  Done: False, Truncated: False\n"
     ]
    },
    {
     "data": {
      "image/png": "[encoded data removed]",
      "text/plain": [
       "<Figure size 640x480 with 1 Axes>"
      ]
     },
     "metadata": {},
     "output_type": "display_data"
    },
    {
     "name": "stdout",
     "output_type": "stream",
     "text": [
      "Episode 1:\n",
      "  Action Taken: [0.15373036 0.43104506]\n",
      "  Reward Received: 1\n",
      "  Done: False, Truncated: False\n"
     ]
    },
    {
     "data": {
      "image/png": "[encoded data removed]",
      "text/plain": [
       "<Figure size 640x480 with 1 Axes>"
      ]
     },
     "metadata": {},
     "output_type": "display_data"
    },
    {
     "name": "stdout",
     "output_type": "stream",
     "text": [
      "Episode 1:\n",
      "  Action Taken: [-0.05200922  0.2234346 ]\n",
      "  Reward Received: 1\n",
      "  Done: False, Truncated: False\n"
     ]
    },
    {
     "data": {
      "image/png": "[encoded data removed]",
      "text/plain": [
       "<Figure size 640x480 with 1 Axes>"
      ]
     },
     "metadata": {},
     "output_type": "display_data"
    },
    {
     "name": "stdout",
     "output_type": "stream",
     "text": [
      "Episode 1:\n",
      "  Action Taken: [0.15373036 0.43104506]\n",
      "  Reward Received: 1\n",
      "  Done: False, Truncated: False\n"
     ]
    },
    {
     "data": {
      "image/png": "[encoded data removed]",
      "text/plain": [
       "<Figure size 640x480 with 1 Axes>"
      ]
     },
     "metadata": {},
     "output_type": "display_data"
    },
    {
     "name": "stdout",
     "output_type": "stream",
     "text": [
      "Episode 1:\n",
      "  Action Taken: [-0.05200922  0.2234346 ]\n",
      "  Reward Received: 1\n",
      "  Done: False, Truncated: False\n"
     ]
    },
    {
     "data": {
      "image/png": "[encoded data removed]",
      "text/plain": [
       "<Figure size 640x480 with 1 Axes>"
      ]
     },
     "metadata": {},
     "output_type": "display_data"
    },
    {
     "name": "stdout",
     "output_type": "stream",
     "text": [
      "Episode 1:\n",
      "  Action Taken: [0.15373036 0.43104506]\n",
      "  Reward Received: 1\n",
      "  Done: False, Truncated: False\n"
     ]
    },
    {
     "data": {
      "image/png": "[encoded data removed]",
      "text/plain": [
       "<Figure size 640x480 with 1 Axes>"
      ]
     },
     "metadata": {},
     "output_type": "display_data"
    },
    {
     "name": "stdout",
     "output_type": "stream",
     "text": [
      "Episode 1:\n",
      "  Action Taken: [-0.05200922  0.2234346 ]\n",
      "  Reward Received: 1\n",
      "  Done: False, Truncated: False\n"
     ]
    },
    {
     "data": {
      "image/png": "[encoded data removed]",
      "text/plain": [
       "<Figure size 640x480 with 1 Axes>"
      ]
     },
     "metadata": {},
     "output_type": "display_data"
    },
    {
     "name": "stdout",
     "output_type": "stream",
     "text": [
      "Episode 1:\n",
      "  Action Taken: [0.15373036 0.43104506]\n",
      "  Reward Received: 1\n",
      "  Done: False, Truncated: False\n"
     ]
    },
    {
     "data": {
      "image/png": "[encoded data removed]",
      "text/plain": [
       "<Figure size 640x480 with 1 Axes>"
      ]
     },
     "metadata": {},
     "output_type": "display_data"
    },
    {
     "name": "stdout",
     "output_type": "stream",
     "text": [
      "Episode 1:\n",
      "  Action Taken: [-0.05200922  0.2234346 ]\n",
      "  Reward Received: 1\n",
      "  Done: False, Truncated: False\n"
     ]
    },
    {
     "data": {
      "image/png": "[encoded data removed]",
      "text/plain": [
       "<Figure size 640x480 with 1 Axes>"
      ]
     },
     "metadata": {},
     "output_type": "display_data"
    },
    {
     "name": "stdout",
     "output_type": "stream",
     "text": [
      "Episode 1:\n",
      "  Action Taken: [0.15373036 0.43104506]\n",
      "  Reward Received: 1\n",
      "  Done: False, Truncated: False\n"
     ]
    },
    {
     "data": {
      "image/png": "[encoded data removed]",
      "text/plain": [
       "<Figure size 640x480 with 1 Axes>"
      ]
     },
     "metadata": {},
     "output_type": "display_data"
    },
    {
     "name": "stdout",
     "output_type": "stream",
     "text": [
      "Episode 1:\n",
      "  Action Taken: [-0.05200922  0.2234346 ]\n",
      "  Reward Received: 1\n",
      "  Done: False, Truncated: False\n"
     ]
    },
    {
     "data": {
      "image/png": "[encoded data removed]",
      "text/plain": [
       "<Figure size 640x480 with 1 Axes>"
      ]
     },
     "metadata": {},
     "output_type": "display_data"
    },
    {
     "name": "stdout",
     "output_type": "stream",
     "text": [
      "Episode 1:\n",
      "  Action Taken: [0.15373036 0.43104506]\n",
      "  Reward Received: 1\n",
      "  Done: False, Truncated: False\n"
     ]
    },
    {
     "data": {
      "image/png": "[encoded data removed]",
      "text/plain": [
       "<Figure size 640x480 with 1 Axes>"
      ]
     },
     "metadata": {},
     "output_type": "display_data"
    },
    {
     "name": "stdout",
     "output_type": "stream",
     "text": [
      "Episode 1:\n",
      "  Action Taken: [-0.05200922  0.2234346 ]\n",
      "  Reward Received: 1\n",
      "  Done: True, Truncated: False\n",
      "Episode 1 finished. Resetting environment...\n"
     ]
    },
    {
     "data": {
      "image/png": "[encoded data removed]",
      "text/plain": [
       "<Figure size 640x480 with 1 Axes>"
      ]
     },
     "metadata": {},
     "output_type": "display_data"
    },
    {
     "name": "stdout",
     "output_type": "stream",
     "text": [
      "Episode 2:\n",
      "  Action Taken: [-0.05200922  0.2234346 ]\n",
      "  Reward Received: 1\n",
      "  Done: False, Truncated: False\n"
     ]
    },
    {
     "data": {
      "image/png": "[encoded data removed]",
      "text/plain": [
       "<Figure size 640x480 with 1 Axes>"
      ]
     },
     "metadata": {},
     "output_type": "display_data"
    },
    {
     "name": "stdout",
     "output_type": "stream",
     "text": [
      "Episode 2:\n",
      "  Action Taken: [-0.06183119  0.21329668]\n",
      "  Reward Received: 1\n",
      "  Done: False, Truncated: False\n"
     ]
    },
    {
     "data": {
      "image/png": "[encoded data removed]",
      "text/plain": [
       "<Figure size 640x480 with 1 Axes>"
      ]
     },
     "metadata": {},
     "output_type": "display_data"
    },
    {
     "name": "stdout",
     "output_type": "stream",
     "text": [
      "Episode 2:\n",
      "  Action Taken: [-0.05200922  0.2234346 ]\n",
      "  Reward Received: 1\n",
      "  Done: False, Truncated: False\n"
     ]
    },
    {
     "data": {
      "image/png": "[encoded data removed]",
      "text/plain": [
       "<Figure size 640x480 with 1 Axes>"
      ]
     },
     "metadata": {},
     "output_type": "display_data"
    },
    {
     "name": "stdout",
     "output_type": "stream",
     "text": [
      "Episode 2:\n",
      "  Action Taken: [-0.06183119  0.21329668]\n",
      "  Reward Received: 1\n",
      "  Done: False, Truncated: False\n"
     ]
    },
    {
     "data": {
      "image/png": "[encoded data removed]",
      "text/plain": [
       "<Figure size 640x480 with 1 Axes>"
      ]
     },
     "metadata": {},
     "output_type": "display_data"
    },
    {
     "name": "stdout",
     "output_type": "stream",
     "text": [
      "Episode 2:\n",
      "  Action Taken: [-0.05200922  0.2234346 ]\n",
      "  Reward Received: 1\n",
      "  Done: False, Truncated: False\n"
     ]
    },
    {
     "data": {
      "image/png": "[encoded data removed]",
      "text/plain": [
       "<Figure size 640x480 with 1 Axes>"
      ]
     },
     "metadata": {},
     "output_type": "display_data"
    },
    {
     "name": "stdout",
     "output_type": "stream",
     "text": [
      "Episode 2:\n",
      "  Action Taken: [-0.06183119  0.21329668]\n",
      "  Reward Received: 1\n",
      "  Done: False, Truncated: False\n"
     ]
    },
    {
     "data": {
      "image/png": "[encoded data removed]",
      "text/plain": [
       "<Figure size 640x480 with 1 Axes>"
      ]
     },
     "metadata": {},
     "output_type": "display_data"
    },
    {
     "name": "stdout",
     "output_type": "stream",
     "text": [
      "Episode 2:\n",
      "  Action Taken: [-0.05200922  0.2234346 ]\n",
      "  Reward Received: 1\n",
      "  Done: False, Truncated: False\n"
     ]
    },
    {
     "data": {
      "image/png": "[encoded data removed]",
      "text/plain": [
       "<Figure size 640x480 with 1 Axes>"
      ]
     },
     "metadata": {},
     "output_type": "display_data"
    },
    {
     "name": "stdout",
     "output_type": "stream",
     "text": [
      "Episode 2:\n",
      "  Action Taken: [-0.06183119  0.21329668]\n",
      "  Reward Received: 1\n",
      "  Done: False, Truncated: False\n"
     ]
    },
    {
     "data": {
      "image/png": "[encoded data removed]",
      "text/plain": [
       "<Figure size 640x480 with 1 Axes>"
      ]
     },
     "metadata": {},
     "output_type": "display_data"
    },
    {
     "name": "stdout",
     "output_type": "stream",
     "text": [
      "Episode 2:\n",
      "  Action Taken: [-0.05200922  0.2234346 ]\n",
      "  Reward Received: 1\n",
      "  Done: False, Truncated: False\n"
     ]
    },
    {
     "data": {
      "image/png": "[encoded data removed]",
      "text/plain": [
       "<Figure size 640x480 with 1 Axes>"
      ]
     },
     "metadata": {},
     "output_type": "display_data"
    },
    {
     "name": "stdout",
     "output_type": "stream",
     "text": [
      "Episode 2:\n",
      "  Action Taken: [-0.06183119  0.21329668]\n",
      "  Reward Received: 1\n",
      "  Done: False, Truncated: False\n"
     ]
    },
    {
     "data": {
      "image/png": "[encoded data removed]",
      "text/plain": [
       "<Figure size 640x480 with 1 Axes>"
      ]
     },
     "metadata": {},
     "output_type": "display_data"
    },
    {
     "name": "stdout",
     "output_type": "stream",
     "text": [
      "Episode 2:\n",
      "  Action Taken: [-0.05200922  0.2234346 ]\n",
      "  Reward Received: 1\n",
      "  Done: False, Truncated: False\n"
     ]
    },
    {
     "data": {
      "image/png": "[encoded data removed]",
      "text/plain": [
       "<Figure size 640x480 with 1 Axes>"
      ]
     },
     "metadata": {},
     "output_type": "display_data"
    },
    {
     "name": "stdout",
     "output_type": "stream",
     "text": [
      "Episode 2:\n",
      "  Action Taken: [-0.06183119  0.21329668]\n",
      "  Reward Received: 1\n",
      "  Done: False, Truncated: False\n"
     ]
    },
    {
     "data": {
      "image/png": "[encoded data removed]",
      "text/plain": [
       "<Figure size 640x480 with 1 Axes>"
      ]
     },
     "metadata": {},
     "output_type": "display_data"
    },
    {
     "name": "stdout",
     "output_type": "stream",
     "text": [
      "Episode 2:\n",
      "  Action Taken: [-0.05200922  0.2234346 ]\n",
      "  Reward Received: 1\n",
      "  Done: False, Truncated: False\n"
     ]
    },
    {
     "data": {
      "image/png": "[encoded data removed]",
      "text/plain": [
       "<Figure size 640x480 with 1 Axes>"
      ]
     },
     "metadata": {},
     "output_type": "display_data"
    },
    {
     "name": "stdout",
     "output_type": "stream",
     "text": [
      "Episode 2:\n",
      "  Action Taken: [-0.06183119  0.21329668]\n",
      "  Reward Received: 1\n",
      "  Done: False, Truncated: False\n"
     ]
    },
    {
     "data": {
      "image/png": "[encoded data removed]",
      "text/plain": [
       "<Figure size 640x480 with 1 Axes>"
      ]
     },
     "metadata": {},
     "output_type": "display_data"
    },
    {
     "name": "stdout",
     "output_type": "stream",
     "text": [
      "Episode 2:\n",
      "  Action Taken: [-0.05200922  0.2234346 ]\n",
      "  Reward Received: 1\n",
      "  Done: True, Truncated: False\n",
      "Episode 2 finished. Resetting environment...\n"
     ]
    },
    {
     "data": {
      "image/png": "[encoded data removed]",
      "text/plain": [
       "<Figure size 640x480 with 1 Axes>"
      ]
     },
     "metadata": {},
     "output_type": "display_data"
    },
    {
     "name": "stdout",
     "output_type": "stream",
     "text": [
      "Episode 3:\n",
      "  Action Taken: [-0.05200922  0.2234346 ]\n",
      "  Reward Received: 1\n",
      "  Done: False, Truncated: False\n"
     ]
    },
    {
     "data": {
      "image/png": "[encoded data removed]",
      "text/plain": [
       "<Figure size 640x480 with 1 Axes>"
      ]
     },
     "metadata": {},
     "output_type": "display_data"
    },
    {
     "name": "stdout",
     "output_type": "stream",
     "text": [
      "Episode 3:\n",
      "  Action Taken: [0.04171902 0.31557396]\n",
      "  Reward Received: 1\n",
      "  Done: False, Truncated: False\n"
     ]
    },
    {
     "data": {
      "image/png": "[encoded data removed]",
      "text/plain": [
       "<Figure size 640x480 with 1 Axes>"
      ]
     },
     "metadata": {},
     "output_type": "display_data"
    },
    {
     "name": "stdout",
     "output_type": "stream",
     "text": [
      "Episode 3:\n",
      "  Action Taken: [-0.02159828  0.26765642]\n",
      "  Reward Received: 1\n",
      "  Done: False, Truncated: False\n"
     ]
    },
    {
     "data": {
      "image/png": "[encoded data removed]",
      "text/plain": [
       "<Figure size 640x480 with 1 Axes>"
      ]
     },
     "metadata": {},
     "output_type": "display_data"
    },
    {
     "name": "stdout",
     "output_type": "stream",
     "text": [
      "Episode 3:\n",
      "  Action Taken: [0.16468304 0.46292132]\n",
      "  Reward Received: 1\n",
      "  Done: False, Truncated: False\n"
     ]
    },
    {
     "data": {
      "image/png": "[encoded data removed]",
      "text/plain": [
       "<Figure size 640x480 with 1 Axes>"
      ]
     },
     "metadata": {},
     "output_type": "display_data"
    },
    {
     "name": "stdout",
     "output_type": "stream",
     "text": [
      "Episode 3:\n",
      "  Action Taken: [0.09654557 0.40248513]\n",
      "  Reward Received: 1\n",
      "  Done: False, Truncated: False\n"
     ]
    },
    {
     "data": {
      "image/png": "[encoded data removed]",
      "text/plain": [
       "<Figure size 640x480 with 1 Axes>"
      ]
     },
     "metadata": {},
     "output_type": "display_data"
    },
    {
     "name": "stdout",
     "output_type": "stream",
     "text": [
      "Episode 3:\n",
      "  Action Taken: [-0.05200922  0.2234346 ]\n",
      "  Reward Received: 1\n",
      "  Done: False, Truncated: False\n"
     ]
    },
    {
     "data": {
      "image/png": "[encoded data removed]",
      "text/plain": [
       "<Figure size 640x480 with 1 Axes>"
      ]
     },
     "metadata": {},
     "output_type": "display_data"
    },
    {
     "name": "stdout",
     "output_type": "stream",
     "text": [
      "Episode 3:\n",
      "  Action Taken: [0.04171902 0.31557396]\n",
      "  Reward Received: 1\n",
      "  Done: False, Truncated: False\n"
     ]
    },
    {
     "data": {
      "image/png": "[encoded data removed]",
      "text/plain": [
       "<Figure size 640x480 with 1 Axes>"
      ]
     },
     "metadata": {},
     "output_type": "display_data"
    },
    {
     "name": "stdout",
     "output_type": "stream",
     "text": [
      "Episode 3:\n",
      "  Action Taken: [-0.02159828  0.26765642]\n",
      "  Reward Received: 1\n",
      "  Done: False, Truncated: False\n"
     ]
    },
    {
     "data": {
      "image/png": "[encoded data removed]",
      "text/plain": [
       "<Figure size 640x480 with 1 Axes>"
      ]
     },
     "metadata": {},
     "output_type": "display_data"
    },
    {
     "name": "stdout",
     "output_type": "stream",
     "text": [
      "Episode 3:\n",
      "  Action Taken: [0.16468304 0.46292132]\n",
      "  Reward Received: 1\n",
      "  Done: False, Truncated: False\n"
     ]
    },
    {
     "data": {
      "image/png": "[encoded data removed]",
      "text/plain": [
       "<Figure size 640x480 with 1 Axes>"
      ]
     },
     "metadata": {},
     "output_type": "display_data"
    },
    {
     "name": "stdout",
     "output_type": "stream",
     "text": [
      "Episode 3:\n",
      "  Action Taken: [0.09654557 0.40248513]\n",
      "  Reward Received: 1\n",
      "  Done: False, Truncated: False\n"
     ]
    },
    {
     "data": {
      "image/png": "[encoded data removed]",
      "text/plain": [
       "<Figure size 640x480 with 1 Axes>"
      ]
     },
     "metadata": {},
     "output_type": "display_data"
    },
    {
     "name": "stdout",
     "output_type": "stream",
     "text": [
      "Episode 3:\n",
      "  Action Taken: [-0.05200922  0.2234346 ]\n",
      "  Reward Received: 1\n",
      "  Done: False, Truncated: False\n"
     ]
    },
    {
     "data": {
      "image/png": "[encoded data removed]",
      "text/plain": [
       "<Figure size 640x480 with 1 Axes>"
      ]
     },
     "metadata": {},
     "output_type": "display_data"
    },
    {
     "name": "stdout",
     "output_type": "stream",
     "text": [
      "Episode 3:\n",
      "  Action Taken: [0.04171902 0.31557396]\n",
      "  Reward Received: 1\n",
      "  Done: False, Truncated: False\n"
     ]
    },
    {
     "data": {
      "image/png": "[encoded data removed]",
      "text/plain": [
       "<Figure size 640x480 with 1 Axes>"
      ]
     },
     "metadata": {},
     "output_type": "display_data"
    },
    {
     "name": "stdout",
     "output_type": "stream",
     "text": [
      "Episode 3:\n",
      "  Action Taken: [-0.02159828  0.26765642]\n",
      "  Reward Received: 1\n",
      "  Done: False, Truncated: False\n"
     ]
    },
    {
     "data": {
      "image/png": "[encoded data removed]",
      "text/plain": [
       "<Figure size 640x480 with 1 Axes>"
      ]
     },
     "metadata": {},
     "output_type": "display_data"
    },
    {
     "name": "stdout",
     "output_type": "stream",
     "text": [
      "Episode 3:\n",
      "  Action Taken: [0.16468304 0.46292132]\n",
      "  Reward Received: 1\n",
      "  Done: False, Truncated: False\n"
     ]
    },
    {
     "data": {
      "image/png": "[encoded data removed]",
      "text/plain": [
       "<Figure size 640x480 with 1 Axes>"
      ]
     },
     "metadata": {},
     "output_type": "display_data"
    },
    {
     "name": "stdout",
     "output_type": "stream",
     "text": [
      "Episode 3:\n",
      "  Action Taken: [0.09654557 0.40248513]\n",
      "  Reward Received: 1\n",
      "  Done: True, Truncated: False\n",
      "Episode 3 finished. Resetting environment...\n"
     ]
    },
    {
     "data": {
      "image/png": "[encoded data removed]",
      "text/plain": [
       "<Figure size 640x480 with 1 Axes>"
      ]
     },
     "metadata": {},
     "output_type": "display_data"
    },
    {
     "name": "stdout",
     "output_type": "stream",
     "text": [
      "Episode 4:\n",
      "  Action Taken: [-0.05200922  0.2234346 ]\n",
      "  Reward Received: 1\n",
      "  Done: False, Truncated: False\n"
     ]
    },
    {
     "data": {
      "image/png": "[encoded data removed]",
      "text/plain": [
       "<Figure size 640x480 with 1 Axes>"
      ]
     },
     "metadata": {},
     "output_type": "display_data"
    },
    {
     "name": "stdout",
     "output_type": "stream",
     "text": [
      "Episode 4:\n",
      "  Action Taken: [0.10131394 0.37254107]\n",
      "  Reward Received: 1\n",
      "  Done: False, Truncated: False\n"
     ]
    },
    {
     "data": {
      "image/png": "[encoded data removed]",
      "text/plain": [
       "<Figure size 640x480 with 1 Axes>"
      ]
     },
     "metadata": {},
     "output_type": "display_data"
    },
    {
     "name": "stdout",
     "output_type": "stream",
     "text": [
      "Episode 4:\n",
      "  Action Taken: [-0.05200922  0.2234346 ]\n",
      "  Reward Received: 1\n",
      "  Done: False, Truncated: False\n"
     ]
    },
    {
     "data": {
      "image/png": "[encoded data removed]",
      "text/plain": [
       "<Figure size 640x480 with 1 Axes>"
      ]
     },
     "metadata": {},
     "output_type": "display_data"
    },
    {
     "name": "stdout",
     "output_type": "stream",
     "text": [
      "Episode 4:\n",
      "  Action Taken: [0.10131394 0.37254107]\n",
      "  Reward Received: 1\n",
      "  Done: False, Truncated: False\n"
     ]
    },
    {
     "data": {
      "image/png": "[encoded data removed]",
      "text/plain": [
       "<Figure size 640x480 with 1 Axes>"
      ]
     },
     "metadata": {},
     "output_type": "display_data"
    },
    {
     "name": "stdout",
     "output_type": "stream",
     "text": [
      "Episode 4:\n",
      "  Action Taken: [-0.05200922  0.2234346 ]\n",
      "  Reward Received: 1\n",
      "  Done: False, Truncated: False\n"
     ]
    },
    {
     "data": {
      "image/png": "[encoded data removed]",
      "text/plain": [
       "<Figure size 640x480 with 1 Axes>"
      ]
     },
     "metadata": {},
     "output_type": "display_data"
    },
    {
     "name": "stdout",
     "output_type": "stream",
     "text": [
      "Episode 4:\n",
      "  Action Taken: [0.10131394 0.37254107]\n",
      "  Reward Received: 1\n",
      "  Done: False, Truncated: False\n"
     ]
    },
    {
     "data": {
      "image/png": "[encoded data removed]",
      "text/plain": [
       "<Figure size 640x480 with 1 Axes>"
      ]
     },
     "metadata": {},
     "output_type": "display_data"
    },
    {
     "name": "stdout",
     "output_type": "stream",
     "text": [
      "Episode 4:\n",
      "  Action Taken: [-0.05200922  0.2234346 ]\n",
      "  Reward Received: 1\n",
      "  Done: False, Truncated: False\n"
     ]
    },
    {
     "data": {
      "image/png": "[encoded data removed]",
      "text/plain": [
       "<Figure size 640x480 with 1 Axes>"
      ]
     },
     "metadata": {},
     "output_type": "display_data"
    },
    {
     "name": "stdout",
     "output_type": "stream",
     "text": [
      "Episode 4:\n",
      "  Action Taken: [0.10131394 0.37254107]\n",
      "  Reward Received: 1\n",
      "  Done: False, Truncated: False\n"
     ]
    },
    {
     "data": {
      "image/png": "[encoded data removed]",
      "text/plain": [
       "<Figure size 640x480 with 1 Axes>"
      ]
     },
     "metadata": {},
     "output_type": "display_data"
    },
    {
     "name": "stdout",
     "output_type": "stream",
     "text": [
      "Episode 4:\n",
      "  Action Taken: [-0.05200922  0.2234346 ]\n",
      "  Reward Received: 1\n",
      "  Done: False, Truncated: False\n"
     ]
    },
    {
     "data": {
      "image/png": "[encoded data removed]",
      "text/plain": [
       "<Figure size 640x480 with 1 Axes>"
      ]
     },
     "metadata": {},
     "output_type": "display_data"
    },
    {
     "name": "stdout",
     "output_type": "stream",
     "text": [
      "Episode 4:\n",
      "  Action Taken: [0.10131394 0.37254107]\n",
      "  Reward Received: 1\n",
      "  Done: False, Truncated: False\n"
     ]
    },
    {
     "data": {
      "image/png": "[encoded data removed]",
      "text/plain": [
       "<Figure size 640x480 with 1 Axes>"
      ]
     },
     "metadata": {},
     "output_type": "display_data"
    },
    {
     "name": "stdout",
     "output_type": "stream",
     "text": [
      "Episode 4:\n",
      "  Action Taken: [-0.05200922  0.2234346 ]\n",
      "  Reward Received: 1\n",
      "  Done: False, Truncated: False\n"
     ]
    },
    {
     "data": {
      "image/png": "[encoded data removed]",
      "text/plain": [
       "<Figure size 640x480 with 1 Axes>"
      ]
     },
     "metadata": {},
     "output_type": "display_data"
    },
    {
     "name": "stdout",
     "output_type": "stream",
     "text": [
      "Episode 4:\n",
      "  Action Taken: [0.10131394 0.37254107]\n",
      "  Reward Received: 1\n",
      "  Done: False, Truncated: False\n"
     ]
    },
    {
     "data": {
      "image/png": "[encoded data removed]",
      "text/plain": [
       "<Figure size 640x480 with 1 Axes>"
      ]
     },
     "metadata": {},
     "output_type": "display_data"
    },
    {
     "name": "stdout",
     "output_type": "stream",
     "text": [
      "Episode 4:\n",
      "  Action Taken: [-0.05200922  0.2234346 ]\n",
      "  Reward Received: 1\n",
      "  Done: False, Truncated: False\n"
     ]
    },
    {
     "data": {
      "image/png": "[encoded data removed]",
      "text/plain": [
       "<Figure size 640x480 with 1 Axes>"
      ]
     },
     "metadata": {},
     "output_type": "display_data"
    },
    {
     "name": "stdout",
     "output_type": "stream",
     "text": [
      "Episode 4:\n",
      "  Action Taken: [0.10131394 0.37254107]\n",
      "  Reward Received: 1\n",
      "  Done: False, Truncated: False\n"
     ]
    },
    {
     "data": {
      "image/png": "[encoded data removed]",
      "text/plain": [
       "<Figure size 640x480 with 1 Axes>"
      ]
     },
     "metadata": {},
     "output_type": "display_data"
    },
    {
     "name": "stdout",
     "output_type": "stream",
     "text": [
      "Episode 4:\n",
      "  Action Taken: [-0.05200922  0.2234346 ]\n",
      "  Reward Received: 1\n",
      "  Done: True, Truncated: False\n",
      "Episode 4 finished. Resetting environment...\n"
     ]
    },
    {
     "data": {
      "image/png": "[encoded data removed]",
      "text/plain": [
       "<Figure size 640x480 with 1 Axes>"
      ]
     },
     "metadata": {},
     "output_type": "display_data"
    },
    {
     "name": "stdout",
     "output_type": "stream",
     "text": [
      "Episode 5:\n",
      "  Action Taken: [-0.05200922  0.2234346 ]\n",
      "  Reward Received: 1\n",
      "  Done: False, Truncated: False\n"
     ]
    },
    {
     "data": {
      "image/png": "[encoded data removed]",
      "text/plain": [
       "<Figure size 640x480 with 1 Axes>"
      ]
     },
     "metadata": {},
     "output_type": "display_data"
    },
    {
     "name": "stdout",
     "output_type": "stream",
     "text": [
      "Episode 5:\n",
      "  Action Taken: [0.04000364 0.27295917]\n",
      "  Reward Received: 1\n",
      "  Done: False, Truncated: False\n"
     ]
    },
    {
     "data": {
      "image/png": "[encoded data removed]",
      "text/plain": [
       "<Figure size 640x480 with 1 Axes>"
      ]
     },
     "metadata": {},
     "output_type": "display_data"
    },
    {
     "name": "stdout",
     "output_type": "stream",
     "text": [
      "Episode 5:\n",
      "  Action Taken: [-0.05200922  0.2234346 ]\n",
      "  Reward Received: 1\n",
      "  Done: False, Truncated: False\n"
     ]
    },
    {
     "data": {
      "image/png": "[encoded data removed]",
      "text/plain": [
       "<Figure size 640x480 with 1 Axes>"
      ]
     },
     "metadata": {},
     "output_type": "display_data"
    },
    {
     "name": "stdout",
     "output_type": "stream",
     "text": [
      "Episode 5:\n",
      "  Action Taken: [0.04000364 0.27295917]\n",
      "  Reward Received: 1\n",
      "  Done: False, Truncated: False\n"
     ]
    },
    {
     "data": {
      "image/png": "[encoded data removed]",
      "text/plain": [
       "<Figure size 640x480 with 1 Axes>"
      ]
     },
     "metadata": {},
     "output_type": "display_data"
    },
    {
     "name": "stdout",
     "output_type": "stream",
     "text": [
      "Episode 5:\n",
      "  Action Taken: [-0.05200922  0.2234346 ]\n",
      "  Reward Received: 1\n",
      "  Done: False, Truncated: False\n"
     ]
    },
    {
     "data": {
      "image/png": "[encoded data removed]",
      "text/plain": [
       "<Figure size 640x480 with 1 Axes>"
      ]
     },
     "metadata": {},
     "output_type": "display_data"
    },
    {
     "name": "stdout",
     "output_type": "stream",
     "text": [
      "Episode 5:\n",
      "  Action Taken: [0.04000364 0.27295917]\n",
      "  Reward Received: 1\n",
      "  Done: False, Truncated: False\n"
     ]
    },
    {
     "data": {
      "image/png": "[encoded data removed]",
      "text/plain": [
       "<Figure size 640x480 with 1 Axes>"
      ]
     },
     "metadata": {},
     "output_type": "display_data"
    },
    {
     "name": "stdout",
     "output_type": "stream",
     "text": [
      "Episode 5:\n",
      "  Action Taken: [-0.05200922  0.2234346 ]\n",
      "  Reward Received: 1\n",
      "  Done: False, Truncated: False\n"
     ]
    },
    {
     "data": {
      "image/png": "[encoded data removed]",
      "text/plain": [
       "<Figure size 640x480 with 1 Axes>"
      ]
     },
     "metadata": {},
     "output_type": "display_data"
    },
    {
     "name": "stdout",
     "output_type": "stream",
     "text": [
      "Episode 5:\n",
      "  Action Taken: [0.04000364 0.27295917]\n",
      "  Reward Received: 1\n",
      "  Done: False, Truncated: False\n"
     ]
    },
    {
     "data": {
      "image/png": "[encoded data removed]",
      "text/plain": [
       "<Figure size 640x480 with 1 Axes>"
      ]
     },
     "metadata": {},
     "output_type": "display_data"
    },
    {
     "name": "stdout",
     "output_type": "stream",
     "text": [
      "Episode 5:\n",
      "  Action Taken: [-0.05200922  0.2234346 ]\n",
      "  Reward Received: 1\n",
      "  Done: False, Truncated: False\n"
     ]
    },
    {
     "data": {
      "image/png": "[encoded data removed]",
      "text/plain": [
       "<Figure size 640x480 with 1 Axes>"
      ]
     },
     "metadata": {},
     "output_type": "display_data"
    },
    {
     "name": "stdout",
     "output_type": "stream",
     "text": [
      "Episode 5:\n",
      "  Action Taken: [0.04000364 0.27295917]\n",
      "  Reward Received: 1\n",
      "  Done: False, Truncated: False\n"
     ]
    },
    {
     "data": {
      "image/png": "[encoded data removed]",
      "text/plain": [
       "<Figure size 640x480 with 1 Axes>"
      ]
     },
     "metadata": {},
     "output_type": "display_data"
    },
    {
     "name": "stdout",
     "output_type": "stream",
     "text": [
      "Episode 5:\n",
      "  Action Taken: [-0.05200922  0.2234346 ]\n",
      "  Reward Received: 1\n",
      "  Done: False, Truncated: False\n"
     ]
    },
    {
     "data": {
      "image/png": "[encoded data removed]",
      "text/plain": [
       "<Figure size 640x480 with 1 Axes>"
      ]
     },
     "metadata": {},
     "output_type": "display_data"
    },
    {
     "name": "stdout",
     "output_type": "stream",
     "text": [
      "Episode 5:\n",
      "  Action Taken: [0.04000364 0.27295917]\n",
      "  Reward Received: 1\n",
      "  Done: False, Truncated: False\n"
     ]
    },
    {
     "data": {
      "image/png": "[encoded data removed]",
      "text/plain": [
       "<Figure size 640x480 with 1 Axes>"
      ]
     },
     "metadata": {},
     "output_type": "display_data"
    },
    {
     "name": "stdout",
     "output_type": "stream",
     "text": [
      "Episode 5:\n",
      "  Action Taken: [-0.05200922  0.2234346 ]\n",
      "  Reward Received: 1\n",
      "  Done: False, Truncated: False\n"
     ]
    },
    {
     "data": {
      "image/png": "[encoded data removed]",
      "text/plain": [
       "<Figure size 640x480 with 1 Axes>"
      ]
     },
     "metadata": {},
     "output_type": "display_data"
    },
    {
     "name": "stdout",
     "output_type": "stream",
     "text": [
      "Episode 5:\n",
      "  Action Taken: [0.04000364 0.27295917]\n",
      "  Reward Received: 1\n",
      "  Done: False, Truncated: False\n"
     ]
    },
    {
     "data": {
      "image/png": "[encoded data removed]",
      "text/plain": [
       "<Figure size 640x480 with 1 Axes>"
      ]
     },
     "metadata": {},
     "output_type": "display_data"
    },
    {
     "name": "stdout",
     "output_type": "stream",
     "text": [
      "Episode 5:\n",
      "  Action Taken: [-0.05200922  0.2234346 ]\n",
      "  Reward Received: 1\n",
      "  Done: True, Truncated: False\n",
      "Episode 5 finished. Resetting environment...\n",
      "All episodes completed. Exiting...\n"
     ]
    }
   ],
   "source": [
    "num_episodes = 5\n",
    "counter = 0\n",
    "\n",
    "print(f\"Starting environment rendering for {num_episodes} episodes...\")\n",
    "obs, info = env.reset()\n",
    "\n",
    "while counter < num_episodes:\n",
    "    # Get action from the model based on the current observation\n",
    "    action, _ = loaded_model.predict(obs, deterministic=True)\n",
    "    obs, reward, done, truncated, info = env.step(action)\n",
    "\n",
    "    env.render()  # Render the environment for visualization\n",
    "\n",
    "    # Provide feedback to the user\n",
    "    print(f\"Episode {counter + 1}:\")\n",
    "    print(f\"  Action Taken: {action}\")\n",
    "    print(f\"  Reward Received: {reward}\")\n",
    "    print(f\"  Done: {done}, Truncated: {truncated}\")\n",
    "\n",
    "    if done or truncated:\n",
    "        print(f\"Episode {counter + 1} finished. Resetting environment...\")\n",
    "        counter += 1\n",
    "        obs, info = env.reset()\n",
    "        env.render()\n",
    "\n",
    "print(\"All episodes completed. Exiting...\")\n",
    "\n",
    "env.close()\n",
    "\n",
    "\n",
    "\n",
    "\n",
    "\n",
    "\n",
    "\n",
    "\n",
    "\n",
    "\n",
    "\n"
   ]
  }
 ],
 "metadata": {
  "kernelspec": {
   "display_name": "rl_ENV",
   "language": "python",
   "name": "python3"
  },
  "language_info": {
   "codemirror_mode": {
    "name": "ipython",
    "version": 3
   },
   "file_extension": ".py",
   "mimetype": "text/x-python",
   "name": "python",
   "nbconvert_exporter": "python",
   "pygments_lexer": "ipython3",
   "version": "3.10.15"
  }
 },
 "nbformat": 4,
 "nbformat_minor": 2
}
