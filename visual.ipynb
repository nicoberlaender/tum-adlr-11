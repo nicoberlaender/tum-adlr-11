{
 "cells": [
  {
   "cell_type": "code",
   "execution_count": 1,
   "metadata": {},
   "outputs": [],
   "source": [
    "import numpy as np\n",
    "import matplotlib.pyplot as plt\n",
    "import torch\n",
    "from PIL import Image\n",
    "import torchvision.transforms as transforms\n",
    "import numpy as np\n",
    "import torch\n",
    "import matplotlib.pyplot as plt\n",
    "import glob\n",
    "import random\n",
    "import os\n",
    "\n",
    "\n"
   ]
  },
  {
   "cell_type": "code",
   "execution_count": 2,
   "metadata": {},
   "outputs": [
    {
     "name": "stderr",
     "output_type": "stream",
     "text": [
      "C:\\Users\\iacop\\AppData\\Local\\Temp\\ipykernel_22580\\4136127815.py:9: FutureWarning: You are using `torch.load` with `weights_only=False` (the current default value), which uses the default pickle module implicitly. It is possible to construct malicious pickle data which will execute arbitrary code during unpickling (See https://github.com/pytorch/pytorch/blob/main/SECURITY.md#untrusted-models for more details). In a future release, the default value for `weights_only` will be flipped to `True`. This limits the functions that could be executed during unpickling. Arbitrary objects will no longer be allowed to be loaded via this mode unless they are explicitly allowlisted by the user via `torch.serialization.add_safe_globals`. We recommend you start setting `weights_only=True` for any use case where you don't have full control of the loaded file. Please open an issue on GitHub for any issues related to this experimental feature.\n",
      "  model = torch.load(\"saved_models/model_full_old.pth\", map_location=device)\n"
     ]
    },
    {
     "ename": "FileNotFoundError",
     "evalue": "[Errno 2] No such file or directory: 'saved_models/model_full_old.pth'",
     "output_type": "error",
     "traceback": [
      "\u001b[1;31m---------------------------------------------------------------------------\u001b[0m",
      "\u001b[1;31mFileNotFoundError\u001b[0m                         Traceback (most recent call last)",
      "Cell \u001b[1;32mIn[2], line 9\u001b[0m\n\u001b[0;32m      6\u001b[0m    device \u001b[38;5;241m=\u001b[39m \u001b[38;5;124m'\u001b[39m\u001b[38;5;124mmps\u001b[39m\u001b[38;5;124m'\u001b[39m\n\u001b[0;32m      8\u001b[0m \u001b[38;5;66;03m# Load the model and map it to the GPU\u001b[39;00m\n\u001b[1;32m----> 9\u001b[0m model \u001b[38;5;241m=\u001b[39m \u001b[43mtorch\u001b[49m\u001b[38;5;241;43m.\u001b[39;49m\u001b[43mload\u001b[49m\u001b[43m(\u001b[49m\u001b[38;5;124;43m\"\u001b[39;49m\u001b[38;5;124;43msaved_models/model_full_old.pth\u001b[39;49m\u001b[38;5;124;43m\"\u001b[39;49m\u001b[43m,\u001b[49m\u001b[43m \u001b[49m\u001b[43mmap_location\u001b[49m\u001b[38;5;241;43m=\u001b[39;49m\u001b[43mdevice\u001b[49m\u001b[43m)\u001b[49m\n\u001b[0;32m     10\u001b[0m ray_model \u001b[38;5;241m=\u001b[39m torch\u001b[38;5;241m.\u001b[39mload(\u001b[38;5;124m\"\u001b[39m\u001b[38;5;124msaved_models/model_full_with_rays.pth\u001b[39m\u001b[38;5;124m\"\u001b[39m, map_location\u001b[38;5;241m=\u001b[39mdevice)\n\u001b[0;32m     12\u001b[0m \u001b[38;5;66;03m# Set the model to evaluation mode\u001b[39;00m\n",
      "File \u001b[1;32mc:\\Users\\iacop\\anaconda3\\envs\\rl_ENV\\lib\\site-packages\\torch\\serialization.py:1319\u001b[0m, in \u001b[0;36mload\u001b[1;34m(f, map_location, pickle_module, weights_only, mmap, **pickle_load_args)\u001b[0m\n\u001b[0;32m   1316\u001b[0m \u001b[38;5;28;01mif\u001b[39;00m \u001b[38;5;124m\"\u001b[39m\u001b[38;5;124mencoding\u001b[39m\u001b[38;5;124m\"\u001b[39m \u001b[38;5;129;01mnot\u001b[39;00m \u001b[38;5;129;01min\u001b[39;00m pickle_load_args\u001b[38;5;241m.\u001b[39mkeys():\n\u001b[0;32m   1317\u001b[0m     pickle_load_args[\u001b[38;5;124m\"\u001b[39m\u001b[38;5;124mencoding\u001b[39m\u001b[38;5;124m\"\u001b[39m] \u001b[38;5;241m=\u001b[39m \u001b[38;5;124m\"\u001b[39m\u001b[38;5;124mutf-8\u001b[39m\u001b[38;5;124m\"\u001b[39m\n\u001b[1;32m-> 1319\u001b[0m \u001b[38;5;28;01mwith\u001b[39;00m \u001b[43m_open_file_like\u001b[49m\u001b[43m(\u001b[49m\u001b[43mf\u001b[49m\u001b[43m,\u001b[49m\u001b[43m \u001b[49m\u001b[38;5;124;43m\"\u001b[39;49m\u001b[38;5;124;43mrb\u001b[39;49m\u001b[38;5;124;43m\"\u001b[39;49m\u001b[43m)\u001b[49m \u001b[38;5;28;01mas\u001b[39;00m opened_file:\n\u001b[0;32m   1320\u001b[0m     \u001b[38;5;28;01mif\u001b[39;00m _is_zipfile(opened_file):\n\u001b[0;32m   1321\u001b[0m         \u001b[38;5;66;03m# The zipfile reader is going to advance the current file position.\u001b[39;00m\n\u001b[0;32m   1322\u001b[0m         \u001b[38;5;66;03m# If we want to actually tail call to torch.jit.load, we need to\u001b[39;00m\n\u001b[0;32m   1323\u001b[0m         \u001b[38;5;66;03m# reset back to the original position.\u001b[39;00m\n\u001b[0;32m   1324\u001b[0m         orig_position \u001b[38;5;241m=\u001b[39m opened_file\u001b[38;5;241m.\u001b[39mtell()\n",
      "File \u001b[1;32mc:\\Users\\iacop\\anaconda3\\envs\\rl_ENV\\lib\\site-packages\\torch\\serialization.py:659\u001b[0m, in \u001b[0;36m_open_file_like\u001b[1;34m(name_or_buffer, mode)\u001b[0m\n\u001b[0;32m    657\u001b[0m \u001b[38;5;28;01mdef\u001b[39;00m \u001b[38;5;21m_open_file_like\u001b[39m(name_or_buffer, mode):\n\u001b[0;32m    658\u001b[0m     \u001b[38;5;28;01mif\u001b[39;00m _is_path(name_or_buffer):\n\u001b[1;32m--> 659\u001b[0m         \u001b[38;5;28;01mreturn\u001b[39;00m \u001b[43m_open_file\u001b[49m\u001b[43m(\u001b[49m\u001b[43mname_or_buffer\u001b[49m\u001b[43m,\u001b[49m\u001b[43m \u001b[49m\u001b[43mmode\u001b[49m\u001b[43m)\u001b[49m\n\u001b[0;32m    660\u001b[0m     \u001b[38;5;28;01melse\u001b[39;00m:\n\u001b[0;32m    661\u001b[0m         \u001b[38;5;28;01mif\u001b[39;00m \u001b[38;5;124m\"\u001b[39m\u001b[38;5;124mw\u001b[39m\u001b[38;5;124m\"\u001b[39m \u001b[38;5;129;01min\u001b[39;00m mode:\n",
      "File \u001b[1;32mc:\\Users\\iacop\\anaconda3\\envs\\rl_ENV\\lib\\site-packages\\torch\\serialization.py:640\u001b[0m, in \u001b[0;36m_open_file.__init__\u001b[1;34m(self, name, mode)\u001b[0m\n\u001b[0;32m    639\u001b[0m \u001b[38;5;28;01mdef\u001b[39;00m \u001b[38;5;21m__init__\u001b[39m(\u001b[38;5;28mself\u001b[39m, name, mode):\n\u001b[1;32m--> 640\u001b[0m     \u001b[38;5;28msuper\u001b[39m()\u001b[38;5;241m.\u001b[39m\u001b[38;5;21m__init__\u001b[39m(\u001b[38;5;28;43mopen\u001b[39;49m\u001b[43m(\u001b[49m\u001b[43mname\u001b[49m\u001b[43m,\u001b[49m\u001b[43m \u001b[49m\u001b[43mmode\u001b[49m\u001b[43m)\u001b[49m)\n",
      "\u001b[1;31mFileNotFoundError\u001b[0m: [Errno 2] No such file or directory: 'saved_models/model_full_old.pth'"
     ]
    }
   ],
   "source": [
    "# Specify the device\n",
    "device = 'cpu'\n",
    "if torch.cuda.is_available():\n",
    "    device = 'cuda'\n",
    "elif torch.backends.mps.is_available():\n",
    "   device = 'mps'\n",
    "\n",
    "# Load the model and map it to the GPU\n",
    "model = torch.load(\"saved_models/model_full_old.pth\", map_location=device)\n",
    "ray_model = torch.load(\"saved_models/model_full_with_rays.pth\", map_location=device)\n",
    "\n",
    "# Set the model to evaluation mode\n",
    "model.eval()\n",
    "#ray_model.eval()\n",
    "\n",
    "print(\"Model loaded onto\", device)"
   ]
  },
  {
   "cell_type": "code",
   "execution_count": null,
   "metadata": {},
   "outputs": [],
   "source": [
    "num_runs = 15\n",
    "image_files = glob.glob('./data_new/*.png')\n",
    "\n",
    "for run in range(num_runs):\n",
    "    # Randomly select one image\n",
    "    target_image_path = random.choice(image_files)\n",
    "    target_image = Image.open(target_image_path).convert('L')\n",
    "    target_image = pil_to_binary(target_image)\n",
    "    # Save target image to plots directory\n",
    "    os.makedirs(f\"./plots/{run}\", exist_ok=True)\n",
    "    plt.imsave(f\"./plots/{run}/target_image.png\", target_image, cmap='gray')\n",
    "\n",
    "    # Random agent simulation\n",
    "    # Assuming target_image is a numpy array or similar object\n",
    "    width, height = target_image.shape  # .shape is an attribute, not a method\n",
    "    print(width, height)\n",
    "    \n",
    "    num_samples = 15\n",
    "    i=0\n",
    "    \n",
    "    # Create a black image\n",
    "    image_black = np.zeros((width, height), dtype=np.int8)\n",
    "    image_with_rays = image_black.copy()\n",
    "    \n",
    "    while (i<num_samples):\n",
    "        # Generate random border and angle for ray shooting\n",
    "        border = np.random.randint(2 * (width + height))\n",
    "        angle = np.random.randint(360)\n",
    "        \n",
    "        # Perform ray shooting\n",
    "        pixels, hit = shoot_ray(target_image, border, angle)\n",
    "        \n",
    "        if hit is None:\n",
    "            continue\n",
    "        else:\n",
    "            image_black[hit[1], hit[0]] = 1\n",
    "            image_with_rays[hit[1], hit[0]] = 1\n",
    "            for pixel in pixels:\n",
    "                image_with_rays[pixel[1], pixel[0]] = -1\n",
    "    \n",
    "        print(f\"Selected Border Point (x, y): {border}\")\n",
    "        print(f\"Ray Shooting Angle: {angle} degrees\")\n",
    "    \n",
    "        print(f\"Ray Shooting Result: (x, y) = ({hit[1]}, {hit[0]})\")\n",
    "        print(f\"Angle for Ray: {angle} degrees\")\n",
    "        # Convert input array to a tensor suitable for the model\n",
    "        input_tensor = torch.tensor(image_black, dtype=torch.float32).unsqueeze(0)  # Add batch dimension\n",
    "        input_tensor_with_rays = torch.tensor(image_with_rays, dtype=torch.float32).unsqueeze(0)  # Add batch dimension\n",
    "        input_tensor = input_tensor.unsqueeze(1)  # Add channel dimension\n",
    "        input_tensor_with_rays = input_tensor_with_rays.unsqueeze(1)  # Add channel dimension\n",
    "        input_tensor = input_tensor.to(device)  # Move the tensor to the GPU\n",
    "        input_tensor_with_rays = input_tensor_with_rays.to(device)\n",
    "    \n",
    "        # Evaluate the model\n",
    "        with torch.no_grad():  # Disable gradient calculation for evaluation\n",
    "            output = model(input_tensor)  # Get the model's predictions\n",
    "            output_with_rays = ray_model(input_tensor_with_rays)\n",
    "    \n",
    "        # Convert the model output to a probability map and binary mask\n",
    "        output_image = output[0][0].cpu().numpy()  # Get the first output channel as a numpy array\n",
    "        output_image_with_rays = output_with_rays[0][0].cpu().numpy()  # Get the first output channel as a numpy array\n",
    "        binary_output = (output_image > 0.5).astype(np.uint8)  # Thresholding to create a binary mask\n",
    "        binary_output_with_rays = (output_image_with_rays > 0.5).astype(np.uint8)  # Thresholding to create a binary mask\n",
    "    \n",
    "        # Print shape of the output image and binary output for clarity\n",
    "        print(f\"Output Image Shape: {output_image.shape}\")\n",
    "        print(f\"Binary Mask Shape: {binary_output.shape}\")\n",
    "    \n",
    "        # Visualization using Matplotlib\n",
    "        plt.figure(figsize=(20, 5))\n",
    "    \n",
    "        \n",
    "    \n",
    "        found_points = np.where(image_black == 1)\n",
    "        plt.subplot(1, 5, 1)\n",
    "        plt.imshow(binary_output, cmap='gray')\n",
    "        #plt.scatter(found_points[1], found_points[0], color='green', s=10, label='Found Points')\n",
    "        #if x is not None and y is not None:\n",
    "        #    plt.scatter(y, x, color='red', s=25, label='Current Point')\n",
    "        plt.title('Binary Output with Points')\n",
    "        plt.axis('off')\n",
    "        # Add an arrow for the angle\n",
    "        #arrow_length = 20  # Adjust the length of the arrow\n",
    "        #arrow_dx = arrow_length * np.cos(np.radians(angle))  # Calculate arrow x component\n",
    "        #arrow_dy = arrow_length * np.sin(np.radians(angle))  # Calculate arrow y component\n",
    "        #plt.arrow(border[1], border[0], arrow_dy, arrow_dx, head_width=5, head_length=10, fc='red', ec='red', label='Angle')\n",
    "\n",
    "        #plot image with rays\n",
    "        plt.subplot(1, 5, 4)\n",
    "        plt.imshow(binary_output_with_rays, cmap='gray')\n",
    "        plt.title('Binary Output with Rays')\n",
    "        plt.axis('off')\n",
    "\n",
    "        #probability heatmap with rays\n",
    "        plt.subplot(1, 5, 5)\n",
    "        plt.imshow(output_image_with_rays, cmap='jet')\n",
    "        plt.title('Probability Heatmap with Rays')\n",
    "        plt.axis('off')\n",
    "    \n",
    "        # Probability heatmap\n",
    "        plt.subplot(1, 5, 2)\n",
    "        plt.imshow(output_image, cmap='jet')\n",
    "        plt.title('Probability Heatmap')\n",
    "        plt.axis('off')\n",
    "    \n",
    "        plt.subplot(1, 5, 3)\n",
    "        plt.imshow(target_image, cmap='gray')\n",
    "        plt.title('Target Image')\n",
    "        plt.axis('off')\n",
    "\n",
    "        #Save the plot to /plots\n",
    "        plt.savefig(f\"./plots/{run}/{i}.png\", bbox_inches='tight', dpi=100)\n",
    "        plt.close()\n",
    "\n",
    "        i = i+1"
   ]
  },
  {
   "cell_type": "code",
   "execution_count": 5,
   "metadata": {},
   "outputs": [
    {
     "name": "stderr",
     "output_type": "stream",
     "text": [
      "/Users/nicoberlaender/Development/ADLR/.conda/lib/python3.11/site-packages/stable_baselines3/common/save_util.py:167: UserWarning: Could not deserialize object clip_range. Consider using `custom_objects` argument to replace this object.\n",
      "Exception: code() argument 13 must be str, not int\n",
      "  warnings.warn(\n",
      "/Users/nicoberlaender/Development/ADLR/.conda/lib/python3.11/site-packages/stable_baselines3/common/save_util.py:167: UserWarning: Could not deserialize object lr_schedule. Consider using `custom_objects` argument to replace this object.\n",
      "Exception: code() argument 13 must be str, not int\n",
      "  warnings.warn(\n"
     ]
    }
   ],
   "source": [
    "from stable_baselines3 import PPO\n",
    "\n",
    "# ID del run salvato su WandB\n",
    "run_id = \"4lm7x36h\"  # Sostituisci con l'ID del tuo run salvato\n",
    "\n",
    "# Percorso del modello\n",
    "model_path = f\"Reinforcement_Learning/models/{run_id}/model\"\n",
    "\n",
    "# Carica il modello\n",
    "loaded_model = PPO.load(model_path)\n",
    "\n"
   ]
  },
  {
   "cell_type": "code",
   "execution_count": 7,
   "metadata": {},
   "outputs": [
    {
     "name": "stderr",
     "output_type": "stream",
     "text": [
      "/Users/nicoberlaender/Development/ADLR/Reinforcement_Learning/test_env2.py:55: FutureWarning: You are using `torch.load` with `weights_only=False` (the current default value), which uses the default pickle module implicitly. It is possible to construct malicious pickle data which will execute arbitrary code during unpickling (See https://github.com/pytorch/pytorch/blob/main/SECURITY.md#untrusted-models for more details). In a future release, the default value for `weights_only` will be flipped to `True`. This limits the functions that could be executed during unpickling. Arbitrary objects will no longer be allowed to be loaded via this mode unless they are explicitly allowlisted by the user via `torch.serialization.add_safe_globals`. We recommend you start setting `weights_only=True` for any use case where you don't have full control of the loaded file. Please open an issue on GitHub for any issues related to this experimental feature.\n",
      "  self.unet = torch.load(\"Reinforcement_Learning/saved_models/model_full_old.pth\", map_location=self.device)\n"
     ]
    }
   ],
   "source": [
    "#Enviroment set up\n",
    "import wandb\n",
    "from stable_baselines3 import PPO\n",
    "from Reinforcement_Learning.test_env2 import TestEnvironment2\n",
    "from wandb.integration.sb3 import WandbCallback\n",
    "from stable_baselines3.common.vec_env import DummyVecEnv, VecVideoRecorder\n",
    "\n",
    "env = TestEnvironment2((224, 224), 15, \"data_new\", render_mode = 'human')\n",
    "\n"
   ]
  },
  {
   "cell_type": "code",
   "execution_count": 8,
   "metadata": {},
   "outputs": [
    {
     "name": "stdout",
     "output_type": "stream",
     "text": [
      "Starting environment rendering for 5 episodes...\n"
     ]
    },
    {
     "ename": "Error",
     "evalue": "You must call wandb.init() before wandb.log()",
     "output_type": "error",
     "traceback": [
      "\u001b[0;31m---------------------------------------------------------------------------\u001b[0m",
      "\u001b[0;31mError\u001b[0m                                     Traceback (most recent call last)",
      "Cell \u001b[0;32mIn[8], line 5\u001b[0m\n\u001b[1;32m      2\u001b[0m counter \u001b[38;5;241m=\u001b[39m \u001b[38;5;241m0\u001b[39m\n\u001b[1;32m      4\u001b[0m \u001b[38;5;28mprint\u001b[39m(\u001b[38;5;124mf\u001b[39m\u001b[38;5;124m\"\u001b[39m\u001b[38;5;124mStarting environment rendering for \u001b[39m\u001b[38;5;132;01m{\u001b[39;00mnum_episodes\u001b[38;5;132;01m}\u001b[39;00m\u001b[38;5;124m episodes...\u001b[39m\u001b[38;5;124m\"\u001b[39m)\n\u001b[0;32m----> 5\u001b[0m obs, info \u001b[38;5;241m=\u001b[39m \u001b[43menv\u001b[49m\u001b[38;5;241;43m.\u001b[39;49m\u001b[43mreset\u001b[49m\u001b[43m(\u001b[49m\u001b[43m)\u001b[49m\n\u001b[1;32m      6\u001b[0m env\u001b[38;5;241m.\u001b[39mrender()\n\u001b[1;32m      7\u001b[0m \u001b[38;5;28;01mwhile\u001b[39;00m counter \u001b[38;5;241m<\u001b[39m num_episodes:\n\u001b[1;32m      8\u001b[0m     \u001b[38;5;66;03m# Get action from the model based on the current observation\u001b[39;00m\n",
      "File \u001b[0;32m~/Development/ADLR/Reinforcement_Learning/test_env2.py:109\u001b[0m, in \u001b[0;36mTestEnvironment2.reset\u001b[0;34m(self, seed, options)\u001b[0m\n\u001b[1;32m    105\u001b[0m \u001b[38;5;28mself\u001b[39m\u001b[38;5;241m.\u001b[39mcurrent_episode_reward \u001b[38;5;241m=\u001b[39m \u001b[38;5;241m0\u001b[39m\n\u001b[1;32m    107\u001b[0m \u001b[38;5;28mself\u001b[39m\u001b[38;5;241m.\u001b[39maction \u001b[38;5;241m=\u001b[39m \u001b[38;5;28;01mNone\u001b[39;00m\n\u001b[0;32m--> 109\u001b[0m \u001b[43mwandb\u001b[49m\u001b[38;5;241;43m.\u001b[39;49m\u001b[43mlog\u001b[49m\u001b[43m(\u001b[49m\u001b[43m{\u001b[49m\u001b[38;5;124;43m\"\u001b[39;49m\u001b[38;5;124;43mCurrent loss\u001b[39;49m\u001b[38;5;124;43m\"\u001b[39;49m\u001b[43m:\u001b[49m\u001b[43m \u001b[49m\u001b[38;5;28;43mself\u001b[39;49m\u001b[38;5;241;43m.\u001b[39;49m\u001b[43mcurrent_loss\u001b[49m\u001b[43m,\u001b[49m\u001b[43m \u001b[49m\n\u001b[1;32m    110\u001b[0m \u001b[43m           \u001b[49m\u001b[43m}\u001b[49m\u001b[43m)\u001b[49m\n\u001b[1;32m    111\u001b[0m \u001b[38;5;66;03m# Must return observation and info\u001b[39;00m\n\u001b[1;32m    112\u001b[0m \u001b[38;5;28;01mreturn\u001b[39;00m \u001b[38;5;28mself\u001b[39m\u001b[38;5;241m.\u001b[39m_get_obs(), \u001b[38;5;28mself\u001b[39m\u001b[38;5;241m.\u001b[39m_get_info()\n",
      "File \u001b[0;32m~/Development/ADLR/.conda/lib/python3.11/site-packages/wandb/sdk/lib/preinit.py:36\u001b[0m, in \u001b[0;36mPreInitCallable.<locals>.preinit_wrapper\u001b[0;34m(*args, **kwargs)\u001b[0m\n\u001b[1;32m     35\u001b[0m \u001b[38;5;28;01mdef\u001b[39;00m \u001b[38;5;21mpreinit_wrapper\u001b[39m(\u001b[38;5;241m*\u001b[39margs: Any, \u001b[38;5;241m*\u001b[39m\u001b[38;5;241m*\u001b[39mkwargs: Any) \u001b[38;5;241m-\u001b[39m\u001b[38;5;241m>\u001b[39m Any:\n\u001b[0;32m---> 36\u001b[0m     \u001b[38;5;28;01mraise\u001b[39;00m wandb\u001b[38;5;241m.\u001b[39mError(\u001b[38;5;124mf\u001b[39m\u001b[38;5;124m\"\u001b[39m\u001b[38;5;124mYou must call wandb.init() before \u001b[39m\u001b[38;5;132;01m{\u001b[39;00mname\u001b[38;5;132;01m}\u001b[39;00m\u001b[38;5;124m()\u001b[39m\u001b[38;5;124m\"\u001b[39m)\n",
      "\u001b[0;31mError\u001b[0m: You must call wandb.init() before wandb.log()"
     ]
    }
   ],
   "source": [
    "num_episodes = 5\n",
    "counter = 0\n",
    "\n",
    "print(f\"Starting environment rendering for {num_episodes} episodes...\")\n",
    "obs, info = env.reset()\n",
    "env.render()\n",
    "while counter < num_episodes:\n",
    "    # Get action from the model based on the current observation\n",
    "    action, _ = loaded_model.predict(obs, deterministic=False)\n",
    "    obs, reward, done, truncated, info = env.step(action)\n",
    "\n",
    "    env.render()  # Render the environment for visualization\n",
    "\n",
    "    # Provide feedback to the user\n",
    "    print(f\"Episode {counter + 1}:\")\n",
    "    print(f\"  Action Taken: {action}\")\n",
    "    print(f\"  Reward Received: {reward}\")\n",
    "    print(f\"  Done: {done}, Truncated: {truncated}\")\n",
    "\n",
    "    if done or truncated:\n",
    "        print(f\"Episode {counter + 1} finished. Resetting environment...\")\n",
    "        counter += 1\n",
    "        obs, info = env.reset()\n",
    "        env.render()\n",
    "\n",
    "print(\"All episodes completed. Exiting...\")\n",
    "\n",
    "env.close()\n",
    "\n",
    "\n",
    "\n",
    "\n",
    "\n",
    "\n",
    "\n",
    "\n",
    "\n",
    "\n",
    "\n"
   ]
  }
 ],
 "metadata": {
  "kernelspec": {
   "display_name": "Python 3",
   "language": "python",
   "name": "python3"
  },
  "language_info": {
   "codemirror_mode": {
    "name": "ipython",
    "version": 3
   },
   "file_extension": ".py",
   "mimetype": "text/x-python",
   "name": "python",
   "nbconvert_exporter": "python",
   "pygments_lexer": "ipython3",
   "version": "3.11.10"
  }
 },
 "nbformat": 4,
 "nbformat_minor": 2
}
