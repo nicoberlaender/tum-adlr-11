{
 "cells": [
  {
   "cell_type": "code",
   "execution_count": null,
   "metadata": {},
   "outputs": [],
   "source": [
    "import numpy as np\n",
    "import matplotlib.pyplot as plt\n",
    "from PIL import Image, ImageDraw\n",
    "import random\n",
    "import os\n",
    "\n",
    "# Define directory to save images\n",
    "os.makedirs(\"shapes_dataset\", exist_ok=True)\n",
    "\n",
    "# Define shape creation functions\n",
    "def create_square(size):\n",
    "    img = Image.new(\"RGB\", (size, size), \"white\")\n",
    "    draw = ImageDraw.Draw(img)\n",
    "    draw.rectangle([10, 10, size-10, size-10], fill=\"blue\")\n",
    "    return img\n",
    "\n",
    "def create_circle(size):\n",
    "    img = Image.new(\"RGB\", (size, size), \"white\")\n",
    "    draw = ImageDraw.Draw(img)\n",
    "    draw.ellipse([10, 10, size-10, size-10], fill=\"green\")\n",
    "    return img\n",
    "\n",
    "def create_triangle(size):\n",
    "    img = Image.new(\"RGB\", (size, size), \"white\")\n",
    "    draw = ImageDraw.Draw(img)\n",
    "    points = [(size//2, 10), (10, size-10), (size-10, size-10)]\n",
    "    draw.polygon(points, fill=\"red\")\n",
    "    return img\n",
    "\n",
    "# Generate and save a dataset\n",
    "for i in range(100):\n",
    "    shape_type = random.choice([\"square\", \"circle\", \"triangle\"])\n",
    "    img_size = random.randint(50, 100)  # Vary size between 50x50 and 100x100 pixels\n",
    "\n",
    "    if shape_type == \"square\":\n",
    "        img = create_square(img_size)\n",
    "    elif shape_type == \"circle\":\n",
    "        img = create_circle(img_size)\n",
    "    else:\n",
    "        img = create_triangle(img_size)\n",
    "    \n",
    "    img.save(f\"shapes_dataset/{shape_type}_{i}.png\")\n"
   ]
  },
  {
   "cell_type": "code",
   "execution_count": null,
   "metadata": {},
   "outputs": [],
   "source": [
    "import numpy as np\n",
    "import random\n",
    "import os\n",
    "from PIL import Image, ImageDraw\n",
    "\n",
    "\n",
    "# Define directory to save images\n",
    "os.makedirs(\"shapes_dataset_outline\", exist_ok=True)\n",
    "\n",
    "# Define shape creation functions for outlined shapes\n",
    "def create_square_outline(size):\n",
    "    img = Image.new(\"L\", (size, size), \"white\")  # \"L\" mode for grayscale\n",
    "    draw = ImageDraw.Draw(img)\n",
    "    draw.rectangle([10, 10, size-10, size-10], outline=\"black\", width=3)\n",
    "    return img\n",
    "\n",
    "def create_circle_outline(size):\n",
    "    img = Image.new(\"L\", (size, size), \"white\")\n",
    "    draw = ImageDraw.Draw(img)\n",
    "    draw.ellipse([10, 10, size-10, size-10], outline=\"black\", width=3)\n",
    "    return img\n",
    "\n",
    "def create_triangle_outline(size):\n",
    "    img = Image.new(\"L\", (size, size), \"white\")\n",
    "    draw = ImageDraw.Draw(img)\n",
    "    points = [(size // 2, 10), (10, size - 10), (size - 10, size - 10)]\n",
    "    draw.polygon(points, outline=\"black\", width=3)\n",
    "    return img\n",
    "\n",
    "# Save each shape as a grayscale outlined image\n",
    "img = create_circle_outline(100)\n",
    "img.save(\"shapes_dataset_outline/circle_outline.png\")\n",
    "\n",
    "img = create_square_outline(100)\n",
    "img.save(\"shapes_dataset_outline/square_outline.png\")\n",
    "\n",
    "img = create_triangle_outline(100)\n",
    "img.save(\"shapes_dataset_outline/triangle_outline.png\")"
   ]
  },
  {
   "cell_type": "code",
   "execution_count": null,
   "metadata": {},
   "outputs": [
    {
     "name": "stdout",
     "output_type": "stream",
     "text": [
      "Dimensioni dell'immagine: 100 x 100\n"
     ]
    }
   ],
   "source": [
    "from PIL import Image\n",
    "\n",
    "# Carica l'immagine\n",
    "image_path = \"shapes_dataset_outline/square_outline.png\"\n",
    "img = Image.open(image_path)\n",
    "\n",
    "# Ottieni le dimensioni\n",
    "width, height = img.size\n",
    "print(f\"Dimensioni dell'immagine: {width} x {height}\")"
   ]
  },
  {
   "cell_type": "code",
   "execution_count": null,
   "metadata": {},
   "outputs": [
    {
     "name": "stdout",
     "output_type": "stream",
     "text": [
      "Sampled black point: (52, 12)\n"
     ]
    }
   ],
   "source": [
    "import numpy as np\n",
    "from PIL import Image\n",
    "\n",
    "def sample_black_point(image_path):\n",
    "    # Open the image in grayscale mode\n",
    "    img = Image.open(image_path).convert(\"L\")  # 'L' mode for grayscale\n",
    "    img_array = np.array(img)\n",
    "    \n",
    "    # Find coordinates of black pixels (assuming black is 0)\n",
    "    black_pixels = np.argwhere(img_array == 0)\n",
    "    \n",
    "    # Check if there are black pixels\n",
    "    if black_pixels.size == 0:\n",
    "        raise ValueError(\"No black points found in the image.\")\n",
    "    \n",
    "    # Randomly select one black pixel\n",
    "    sampled_point = black_pixels[np.random.choice(len(black_pixels))]\n",
    "    return tuple(sampled_point)  # Return as (row, column)\n",
    "\n",
    "# Example usage\n",
    "sampled_point = sample_black_point(\"shapes_dataset_outline/circle_outline.png\")\n",
    "print(\"Sampled black point:\", sampled_point)"
   ]
  },
  {
   "cell_type": "code",
   "execution_count": null,
   "metadata": {},
   "outputs": [],
   "source": [
    "import numpy as np\n",
    "from PIL import Image\n",
    "\n",
    "def sample_black_point(img_array ):\n",
    "    \n",
    "    # Find coordinates of black pixels (assuming black is 0)\n",
    "    black_pixels = np.argwhere(img_array == 0)\n",
    "    \n",
    "    # Check if there are black pixels\n",
    "    if black_pixels.size == 0:\n",
    "        raise ValueError(\"No black points found in the image.\")\n",
    "    \n",
    "    # Randomly select one black pixel\n",
    "    sampled_point = black_pixels[np.random.choice(len(black_pixels))]\n",
    "    return tuple(sampled_point)  # Return as (row, column)\n"
   ]
  },
  {
   "cell_type": "code",
   "execution_count": 58,
   "metadata": {},
   "outputs": [
    {
     "ename": "KeyboardInterrupt",
     "evalue": "",
     "output_type": "error",
     "traceback": [
      "\u001b[1;31m---------------------------------------------------------------------------\u001b[0m",
      "\u001b[1;31mKeyboardInterrupt\u001b[0m                         Traceback (most recent call last)",
      "Cell \u001b[1;32mIn[58], line 60\u001b[0m\n\u001b[0;32m     57\u001b[0m starting_point \u001b[38;5;241m=\u001b[39m sample_black_point(image_array)\n\u001b[0;32m     59\u001b[0m \u001b[38;5;66;03m# Find 5 nearby black points\u001b[39;00m\n\u001b[1;32m---> 60\u001b[0m nearby_black_points \u001b[38;5;241m=\u001b[39m \u001b[43mfind_nearby_black_points_array\u001b[49m\u001b[43m(\u001b[49m\u001b[43mimage_array\u001b[49m\u001b[43m,\u001b[49m\u001b[43m \u001b[49m\u001b[43mstarting_point\u001b[49m\u001b[43m,\u001b[49m\u001b[43m \u001b[49m\u001b[43mnum_points\u001b[49m\u001b[38;5;241;43m=\u001b[39;49m\u001b[38;5;241;43m10\u001b[39;49m\u001b[43m,\u001b[49m\u001b[43m \u001b[49m\u001b[43mneighborhood_size\u001b[49m\u001b[38;5;241;43m=\u001b[39;49m\u001b[38;5;241;43m1\u001b[39;49m\u001b[43m)\u001b[49m\n\u001b[0;32m     62\u001b[0m \u001b[38;5;66;03m# Print the found points\u001b[39;00m\n\u001b[0;32m     63\u001b[0m \u001b[38;5;28mprint\u001b[39m(\u001b[38;5;124m\"\u001b[39m\u001b[38;5;124mNearby black points:\u001b[39m\u001b[38;5;124m\"\u001b[39m, nearby_black_points)\n",
      "Cell \u001b[1;32mIn[58], line 38\u001b[0m, in \u001b[0;36mfind_nearby_black_points_array\u001b[1;34m(image_array, center_point, num_points, neighborhood_size)\u001b[0m\n\u001b[0;32m     35\u001b[0m \u001b[38;5;28;01mfor\u001b[39;00m i \u001b[38;5;129;01min\u001b[39;00m \u001b[38;5;28mrange\u001b[39m(x_min, x_max \u001b[38;5;241m+\u001b[39m \u001b[38;5;241m1\u001b[39m):\n\u001b[0;32m     36\u001b[0m     \u001b[38;5;28;01mfor\u001b[39;00m j \u001b[38;5;129;01min\u001b[39;00m \u001b[38;5;28mrange\u001b[39m(y_min, y_max \u001b[38;5;241m+\u001b[39m \u001b[38;5;241m1\u001b[39m):\n\u001b[0;32m     37\u001b[0m         \u001b[38;5;66;03m#print(image_array[i,j])\u001b[39;00m\n\u001b[1;32m---> 38\u001b[0m         \u001b[38;5;28;01mif\u001b[39;00m image_array[i,j] \u001b[38;5;241m==\u001b[39m \u001b[38;5;241m0\u001b[39m \u001b[38;5;129;01mand\u001b[39;00m (i, j) \u001b[38;5;241m!=\u001b[39m center_point \u001b[38;5;129;01mand\u001b[39;00m (i,j) \u001b[38;5;129;01mnot\u001b[39;00m \u001b[38;5;129;01min\u001b[39;00m black_points:  \u001b[38;5;66;03m# Check if black and not the center\u001b[39;00m\n\u001b[0;32m     39\u001b[0m             black_points\u001b[38;5;241m.\u001b[39mappend((i, j))\n\u001b[0;32m     40\u001b[0m             \u001b[38;5;28;01mif\u001b[39;00m \u001b[38;5;28mlen\u001b[39m(black_points) \u001b[38;5;241m>\u001b[39m\u001b[38;5;241m=\u001b[39m num_points:  \u001b[38;5;66;03m# Stop if we have enough points\u001b[39;00m\n",
      "\u001b[1;31mKeyboardInterrupt\u001b[0m: "
     ]
    }
   ],
   "source": [
    "import numpy as np\n",
    "import os\n",
    "import random\n",
    "\n",
    "def find_nearby_black_points_array(image_array, center_point, num_points=5, neighborhood_size=2):\n",
    "    \"\"\"\n",
    "    Finds a specified number of black points around a given point in a binary NumPy array.\n",
    "    \n",
    "    Parameters:\n",
    "    - image_array: np.ndarray, binary image array where black points are 0 and white are 255 or 1.\n",
    "    - center_point: tuple, the (x, y) coordinates of the initial black point.\n",
    "    - num_points: int, the number of black points to find around the center point.\n",
    "    - neighborhood_size: int, the size of the search area around the center point.\n",
    "    \n",
    "    Returns:\n",
    "    - List of coordinates of nearby black points, or empty if none found.\n",
    "    \"\"\"\n",
    "    x, y = center_point\n",
    "    height, width = image_array.shape\n",
    "    black_points = []\n",
    "    black_points.append(center_point)\n",
    "\n",
    "    direction_right = True\n",
    "    \n",
    "    while (len(black_points) < num_points ):\n",
    "        # Loop through the neighborhood to find black points\n",
    "        if ( direction_right):\n",
    "            x_min = x\n",
    "            x_max = min(width - 1, x + neighborhood_size)\n",
    "        else :\n",
    "            x_min = max(0, x-neighborhood_size)\n",
    "            x_max = x\n",
    "        y_min = max(0, y - neighborhood_size)\n",
    "        y_max = min(height - 1, y + neighborhood_size)\n",
    "        for i in range(x_min, x_max + 1):\n",
    "            for j in range(y_min, y_max + 1):\n",
    "                #print(image_array[i,j])\n",
    "                if image_array[i,j] == 0 and (i, j) != center_point and (i,j) not in black_points:  # Check if black and not the center\n",
    "                    black_points.append((i, j))\n",
    "                    if len(black_points) >= num_points:  # Stop if we have enough points\n",
    "                        return black_points\n",
    "        direction_right = False\n",
    "    return black_points  # Return all found points (could be fewer than num_points if not enough)\n",
    "\n",
    "# Sample usage\n",
    "# Create a 2D binary array with a black square\n",
    "size = 100\n",
    "\n",
    "shape_type = random.choice([\"square\", \"circle\", \"triangle\"])\n",
    "    \n",
    "img_path = os.path.join(\"shapes_dataset_outline\" ,f\"{shape_type}_outline.png \")\n",
    "    \n",
    "img = Image.open(img_path).convert(\"L\")  # 'L' mode for grayscale\n",
    "img.show()\n",
    "image_array = np.array(img)\n",
    "# Specify a starting black point\n",
    "starting_point = sample_black_point(image_array)\n",
    "\n",
    "# Find 5 nearby black points\n",
    "nearby_black_points = find_nearby_black_points_array(image_array, starting_point, num_points=10, neighborhood_size=1)\n",
    "\n",
    "# Print the found points\n",
    "print(\"Nearby black points:\", nearby_black_points)"
   ]
  },
  {
   "cell_type": "code",
   "execution_count": 24,
   "metadata": {},
   "outputs": [
    {
     "data": {
      "text/plain": [
       "0"
      ]
     },
     "execution_count": 24,
     "metadata": {},
     "output_type": "execute_result"
    }
   ],
   "source": [
    "x,y= starting_point\n",
    "image_array[x][y]"
   ]
  },
  {
   "cell_type": "code",
   "execution_count": 51,
   "metadata": {},
   "outputs": [],
   "source": [
    "import numpy as np\n",
    "from PIL import Image\n",
    "\n",
    "def create_image_with_black_points(points, size=(100, 100)):\n",
    "    \"\"\"\n",
    "    Creates a 100x100 image with black pixels only at the specified coordinates.\n",
    "    \n",
    "    Parameters:\n",
    "    - points: List of tuples, each tuple being the (x, y) coordinate of a black point.\n",
    "    - size: Tuple, the dimensions of the image (default is 100x100).\n",
    "    \n",
    "    Returns:\n",
    "    - A PIL Image with black points at specified coordinates.\n",
    "    \"\"\"\n",
    "    # Initialize a white image\n",
    "    image_array = np.ones(size, dtype=np.uint8) * 255\n",
    "    \n",
    "    # Set specified points to black\n",
    "    for x, y in points:\n",
    "        if 0 <= x < size[0] and 0 <= y < size[1]:  # Ensure point is within bounds\n",
    "            image_array[y, x] = 0\n",
    "    \n",
    "    # Convert to a PIL Image and return\n",
    "    return Image.fromarray(image_array)\n",
    "\n",
    "# Example usage\n",
    "black_points = [(30, 30), (40, 40), (50, 50), (60, 60), (70, 70)]  # Replace with your list of coordinates\n",
    "img = create_image_with_black_points(black_points)\n",
    "\n",
    "# Show or save the image\n",
    "img.show()  # Opens the image in a viewer\n",
    "img.save(\"black_points_image.png\")  # Saves the image as a PNG"
   ]
  },
  {
   "cell_type": "code",
   "execution_count": 55,
   "metadata": {},
   "outputs": [
    {
     "name": "stdout",
     "output_type": "stream",
     "text": [
      "(47, 88)\n",
      "(47, 88)\n",
      "0\n"
     ]
    }
   ],
   "source": [
    "num_img= 1\n",
    "random_point=[]\n",
    "# Generate and save a dataset\n",
    "for i in range(num_img):\n",
    "    \n",
    "    shape_type = random.choice([\"square\", \"circle\", \"triangle\"])\n",
    "   \n",
    "    \n",
    "    img_path = os.path.join(\"shapes_dataset_outline\" ,f\"{shape_type}.png \")\n",
    "    \n",
    "    img = Image.open(image_path).convert(\"L\")  # 'L' mode for grayscale\n",
    "    img.show()\n",
    "    img_array = np.array(img)\n",
    "    \n",
    "    random_point.append(sample_black_point(img_array))\n",
    "\n",
    "    random_length = random.randint(10, 20)  # Vary size between 50x50 and 100x100 pixels\n",
    "\n",
    "    print(random_point[0])\n",
    "    random_point = find_nearby_black_points_array(img_array,random_point[0],random_length, neighborhood_size=2)\n",
    "    print(random_point[0])\n",
    "    img = create_image_with_black_points(random_point)\n",
    "    img.save(f\"point_shape/{shape_type}_{i}.png\")\n",
    "    print(i)\n",
    "\n"
   ]
  },
  {
   "cell_type": "code",
   "execution_count": 33,
   "metadata": {},
   "outputs": [
    {
     "name": "stdout",
     "output_type": "stream",
     "text": [
      "18\n"
     ]
    },
    {
     "ename": "KeyboardInterrupt",
     "evalue": "",
     "output_type": "error",
     "traceback": [
      "\u001b[1;31m---------------------------------------------------------------------------\u001b[0m",
      "\u001b[1;31mKeyboardInterrupt\u001b[0m                         Traceback (most recent call last)",
      "Cell \u001b[1;32mIn[33], line 15\u001b[0m\n\u001b[0;32m     12\u001b[0m j\u001b[38;5;241m=\u001b[39m\u001b[38;5;241m0\u001b[39m\n\u001b[0;32m     13\u001b[0m \u001b[38;5;28;01mwhile\u001b[39;00m(\u001b[38;5;28mlen\u001b[39m(random_point) \u001b[38;5;241m<\u001b[39m random_length):\n\u001b[1;32m---> 15\u001b[0m     new_points \u001b[38;5;241m=\u001b[39m \u001b[43mfind_nearby_black_points_array\u001b[49m\u001b[43m(\u001b[49m\u001b[43mimg_array\u001b[49m\u001b[43m,\u001b[49m\u001b[43mrandom_point\u001b[49m\u001b[43m[\u001b[49m\u001b[38;5;241;43m0\u001b[39;49m\u001b[43m]\u001b[49m\u001b[43m,\u001b[49m\u001b[43mrandom_length\u001b[49m\u001b[43m,\u001b[49m\u001b[43mneighborhood_size\u001b[49m\u001b[38;5;241;43m=\u001b[39;49m\u001b[38;5;241;43m2\u001b[39;49m\u001b[43m)\u001b[49m\n\u001b[0;32m     17\u001b[0m     \u001b[38;5;28mprint\u001b[39m(random_point[\u001b[38;5;241m0\u001b[39m])\n\u001b[0;32m     18\u001b[0m     \u001b[38;5;28mprint\u001b[39m(random_point)\n",
      "Cell \u001b[1;32mIn[32], line 38\u001b[0m, in \u001b[0;36mfind_nearby_black_points_array\u001b[1;34m(image_array, center_point, num_points, neighborhood_size)\u001b[0m\n\u001b[0;32m     35\u001b[0m \u001b[38;5;28;01mfor\u001b[39;00m i \u001b[38;5;129;01min\u001b[39;00m \u001b[38;5;28mrange\u001b[39m(x_min, x_max \u001b[38;5;241m+\u001b[39m \u001b[38;5;241m1\u001b[39m):\n\u001b[0;32m     36\u001b[0m     \u001b[38;5;28;01mfor\u001b[39;00m j \u001b[38;5;129;01min\u001b[39;00m \u001b[38;5;28mrange\u001b[39m(y_min, y_max \u001b[38;5;241m+\u001b[39m \u001b[38;5;241m1\u001b[39m):\n\u001b[0;32m     37\u001b[0m         \u001b[38;5;66;03m#print(image_array[i,j])\u001b[39;00m\n\u001b[1;32m---> 38\u001b[0m         \u001b[38;5;28;01mif\u001b[39;00m image_array[i,j] \u001b[38;5;241m==\u001b[39m \u001b[38;5;241m0\u001b[39m \u001b[38;5;129;01mand\u001b[39;00m (i, j) \u001b[38;5;241m!=\u001b[39m center_point \u001b[38;5;129;01mand\u001b[39;00m (i,j) \u001b[38;5;129;01mnot\u001b[39;00m \u001b[38;5;129;01min\u001b[39;00m black_points:  \u001b[38;5;66;03m# Check if black and not the center\u001b[39;00m\n\u001b[0;32m     39\u001b[0m             black_points\u001b[38;5;241m.\u001b[39mappend((i, j))\n\u001b[0;32m     40\u001b[0m             \u001b[38;5;28;01mif\u001b[39;00m \u001b[38;5;28mlen\u001b[39m(black_points) \u001b[38;5;241m>\u001b[39m\u001b[38;5;241m=\u001b[39m num_points:  \u001b[38;5;66;03m# Stop if we have enough points\u001b[39;00m\n",
      "\u001b[1;31mKeyboardInterrupt\u001b[0m: "
     ]
    }
   ],
   "source": [
    "shape_type = random.choice([\"square\", \"circle\", \"triangle\"])\n",
    "random_point=[]\n",
    "    \n",
    "img_path = os.path.join(\"shapes_dataset_outline\" ,f\"{shape_type}_outline.png \")\n",
    "img = Image.open(img_path).convert(\"L\")  # 'L' mode for grayscale\n",
    "img.show() \n",
    "img_array = np.array(img)\n",
    "random_point.append(sample_black_point(img_array))\n",
    "\n",
    "random_length = random.randint(10, 20)  # Vary size between 50x50 and 100x100 pixels\n",
    "print(random_length)\n",
    "j=0\n",
    "while(len(random_point) < random_length):\n",
    "    \n",
    "    new_points = find_nearby_black_points_array(img_array,random_point[0],random_length,neighborhood_size=2)\n",
    "    \n",
    "    print(random_point[0])\n",
    "    print(random_point)\n",
    "    print(len(random_point))\n",
    "    #print(img_array[random_point])\n",
    "    j= j+1\n",
    "img = create_image_with_black_points(random_point)\n",
    "img.save(f\"point_shape/{shape_type}_{i}.png\")"
   ]
  },
  {
   "cell_type": "code",
   "execution_count": null,
   "metadata": {},
   "outputs": [
    {
     "name": "stdout",
     "output_type": "stream",
     "text": [
      "[(12, 42), (10, 52), (90, 11), (10, 83), (36, 89), (10, 41), (17, 12), (42, 10), (89, 83), (90, 18), (89, 15), (89, 58), (14, 89), (11, 54), (12, 34), (45, 11)]\n",
      "[(12, 42), (10, 52), (90, 11), (10, 83), (36, 89), (10, 41), (17, 12), (42, 10), (89, 83), (90, 18), (89, 15), (89, 58), (14, 89), (11, 54), (12, 34), (45, 11)]\n"
     ]
    }
   ],
   "source": [
    "import numpy as np\n",
    "\n",
    "def check_black_points(points, image_array):\n",
    "    \"\"\"\n",
    "    Controlla quali punti nella lista sono neri (valore 0) nell'immagine.\n",
    "\n",
    "    Parameters:\n",
    "    - points: Lista di tuple, ogni tuple rappresenta un punto (x, y).\n",
    "    - image_array: Array numpy 2D che rappresenta l'immagine in bianco e nero.\n",
    "\n",
    "    Returns:\n",
    "    - Lista di punti che sono neri nell'immagine.\n",
    "    \"\"\"\n",
    "    black_points = []\n",
    "    for x, y in points:\n",
    "        # Controlla che il punto sia all'interno dei confini dell'immagine\n",
    "        if 0 <= x < image_array.shape[1] and 0 <= y < image_array.shape[0]:\n",
    "            if image_array[y, x] == 0:  # Verifica se il punto è nero\n",
    "                black_points.append((x, y))\n",
    "    \n",
    "    return black_points\n",
    "\n",
    "print(random_point)\n",
    "black_points = check_black_points(random_point, img_array)\n",
    "print(black_points)"
   ]
  },
  {
   "cell_type": "markdown",
   "metadata": {},
   "source": [
    "img[random_point[-1]]"
   ]
  }
 ],
 "metadata": {
  "kernelspec": {
   "display_name": "pytorch3d",
   "language": "python",
   "name": "python3"
  },
  "language_info": {
   "codemirror_mode": {
    "name": "ipython",
    "version": 3
   },
   "file_extension": ".py",
   "mimetype": "text/x-python",
   "name": "python",
   "nbconvert_exporter": "python",
   "pygments_lexer": "ipython3",
   "version": "3.8.20"
  }
 },
 "nbformat": 4,
 "nbformat_minor": 2
}
