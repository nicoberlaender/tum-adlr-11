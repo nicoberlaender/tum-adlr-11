{
 "cells": [
  {
   "cell_type": "markdown",
   "metadata": {},
   "source": [
    "Only needs to be run once when there is a folder /data containing segmaps and random samplings should be created from them. Samplings are saved in /data/samples."
   ]
  },
  {
   "cell_type": "code",
   "execution_count": 7,
   "metadata": {},
   "outputs": [
    {
     "name": "stdout",
     "output_type": "stream",
     "text": [
      "Sampling completed and saved to ./data/samples\n"
     ]
    }
   ],
   "source": [
    "import os\n",
    "import random\n",
    "from dataset.preprocessing import pil_to_binary, get_surface_pixels, sample_pixels\n",
    "from PIL import Image\n",
    "import matplotlib.pyplot as plt\n",
    "\n",
    "# Directory paths\n",
    "input_dir = './data'\n",
    "output_dir = './data/samples'\n",
    "\n",
    "# Ensure the output directory exists\n",
    "os.makedirs(output_dir, exist_ok=True)\n",
    "\n",
    "# Iterate through all files in the input directory\n",
    "for filename in os.listdir(input_dir):\n",
    "    if filename.endswith('.png'):\n",
    "        image_number = filename.split('.')[0]\n",
    "        #create subfolder for image\n",
    "        os.makedirs(os.path.join(output_dir, image_number), exist_ok=True)\n",
    "        # Load the image\n",
    "        image_path = os.path.join(input_dir, filename)\n",
    "        image = Image.open(image_path)\n",
    "        binary_image = pil_to_binary(image)\n",
    "\n",
    "        surface_pixels = get_surface_pixels(binary_image)\n",
    "        \n",
    "        for i in range(100):\n",
    "            #random number between 1 and 15\n",
    "            rnd = random.randint(1,15)\n",
    "            sampled_points = sample_pixels(surface_pixels, rnd)\n",
    "            #save image to generated subfolder\n",
    "            output_path = os.path.join(output_dir, image_number, f'{i}.png')\n",
    "            plt.imsave(output_path, sampled_points, cmap='gray')\n",
    "\n",
    "print(\"Sampling completed and saved to\", output_dir)"
   ]
  },
  {
   "cell_type": "code",
   "execution_count": 2,
   "metadata": {},
   "outputs": [
    {
     "name": "stdout",
     "output_type": "stream",
     "text": [
      "Rinominamento completato.\n"
     ]
    }
   ],
   "source": [
    "import os\n",
    "\n",
    "# Percorsi delle directory\n",
    "data_path = \"C:/Users/iacop/OneDrive - TUM/Desktop/Programmazione/Github/tum-adlr-11/2D_Shape_Completion/data\"  # Sostituisci con il percorso della cartella \"data\"\n",
    "samples_path = os.path.join(data_path, \"samples\")  # Sottocartella \"samples\"\n",
    "\n",
    "# Lista delle immagini nella cartella \"data\" (escludendo \"samples\")\n",
    "images = [f for f in os.listdir(data_path) if f.endswith(\".png\") and os.path.isfile(os.path.join(data_path, f))]\n",
    "\n",
    "# Ordina le immagini in base al numero nel nome\n",
    "images.sort(key=lambda x: int(os.path.splitext(x)[0]))\n",
    "\n",
    "# Rinominare immagini e cartelle in ordine crescente\n",
    "for new_index, image_name in enumerate(images, start=1):\n",
    "    old_image_path = os.path.join(data_path, image_name)\n",
    "    old_folder_path = os.path.join(samples_path, os.path.splitext(image_name)[0])\n",
    "    \n",
    "    # Nuovi nomi\n",
    "    new_image_name = f\"{new_index}.png\"\n",
    "    new_folder_name = str(new_index)\n",
    "    new_image_path = os.path.join(data_path, new_image_name)\n",
    "    new_folder_path = os.path.join(samples_path, new_folder_name)\n",
    "\n",
    "    # Rinomina immagine\n",
    "    os.rename(old_image_path, new_image_path)\n",
    "\n",
    "    # Rinomina cartella corrispondente\n",
    "    if os.path.exists(old_folder_path):\n",
    "        os.rename(old_folder_path, new_folder_path)\n",
    "\n",
    "print(\"Rinominamento completato.\")\n"
   ]
  }
 ],
 "metadata": {
  "kernelspec": {
   "display_name": "rl_ENV",
   "language": "python",
   "name": "python3"
  },
  "language_info": {
   "codemirror_mode": {
    "name": "ipython",
    "version": 3
   },
   "file_extension": ".py",
   "mimetype": "text/x-python",
   "name": "python",
   "nbconvert_exporter": "python",
   "pygments_lexer": "ipython3",
   "version": "3.10.15"
  }
 },
 "nbformat": 4,
 "nbformat_minor": 2
}
