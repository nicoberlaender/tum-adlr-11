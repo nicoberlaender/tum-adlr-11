{
 "cells": [
  {
   "cell_type": "markdown",
   "metadata": {},
   "source": [
    "## Imports"
   ]
  },
  {
   "cell_type": "code",
   "execution_count": null,
   "metadata": {},
   "outputs": [],
   "source": [
    "import numpy as np\n",
    "import matplotlib.pyplot as plt\n",
    "import torch\n",
    "import torchvision.transforms as transforms\n",
    "from dataset.image_dataset import ImageDataset"
   ]
  },
  {
   "cell_type": "markdown",
   "metadata": {},
   "source": [
    "## Setup"
   ]
  },
  {
   "cell_type": "code",
   "execution_count": null,
   "metadata": {},
   "outputs": [],
   "source": [
    "# Specify the device\n",
    "device = 'cpu'\n",
    "if torch.cuda.is_available():\n",
    "    device = 'cuda'\n",
    "if torch.backends.mps.is_available():\n",
    "    device = 'mps'\n",
    "\n",
    "# Load the model and map it to the GPU\n",
    "model = torch.load(\"saved_models/model_full.pth\", map_location=device)\n",
    "\n",
    "# Set the model to evaluation mode\n",
    "model.eval()\n",
    "\n",
    "print(\"Model loaded onto\", device)"
   ]
  },
  {
   "cell_type": "code",
   "execution_count": null,
   "metadata": {},
   "outputs": [],
   "source": [
    "image_dataset = ImageDataset(\"data\", test=True)\n",
    "# Load 5 random images and targets\n",
    "fig, axes = plt.subplots(5, 2, figsize=(10, 20))\n",
    "for i in range(5):\n",
    "    # Get random image and target\n",
    "    idx = np.random.randint(0, len(image_dataset))\n",
    "    image, target = image_dataset[idx]\n",
    "    \n",
    "    # Plot image\n",
    "    axes[i,0].imshow(image[0], cmap='gray')\n",
    "    axes[i,0].set_title(f'Image {i+1}')\n",
    "    axes[i,0].axis('off')\n",
    "    \n",
    "    # Plot target\n",
    "    axes[i,1].imshow(target[0], cmap='gray')\n",
    "    axes[i,1].set_title(f'Target {i+1}')\n",
    "    axes[i,1].axis('off')\n",
    "\n",
    "plt.tight_layout()\n",
    "plt.show()"
   ]
  },
  {
   "cell_type": "markdown",
   "metadata": {},
   "source": [
    "## Make Prediction\n",
    "Load random (image, target) pair from the test set and let the model make a prediction.\n",
    "Plot the original image, the probability heatmap, the binary output as well as the ground truth."
   ]
  },
  {
   "cell_type": "code",
   "execution_count": null,
   "metadata": {},
   "outputs": [],
   "source": [
    "image_dataset = ImageDataset(\"data\", test=True)\n",
    "# load random image and target\n",
    "image, target = image_dataset[np.random.randint(0, len(image_dataset))]\n",
    "image = image.to(device).unsqueeze(0)\n",
    "target = target.to(device).unsqueeze(0)\n",
    "target_image = target[0][0].cpu().numpy()\n",
    "\n",
    "with torch.no_grad():  # Disable gradient calculation for evaluation\n",
    "    y = model(input)  # Get the model's predictions\n",
    "\n",
    "y_image = y[0][0].cpu().numpy()\n",
    "binary_output = (y_image > 0.5).astype(np.uint8)\n",
    "#show image, probability heatmap and ground truth\n",
    "plt.figure(figsize=(12, 6))\n",
    "plt.subplot(1, 4, 1)\n",
    "plt.imshow(image, cmap='gray')\n",
    "plt.title('Input Image')\n",
    "plt.axis('off')\n",
    "plt.subplot(1, 4, 2)\n",
    "plt.imshow(y_image, cmap='jet')\n",
    "plt.title('Probability Heatmap')\n",
    "plt.axis('off')\n",
    "plt.subplot(1, 4, 3)\n",
    "plt.imshow(binary_output, cmap='gray')\n",
    "plt.title('Binary Output')\n",
    "plt.axis('off')\n",
    "plt.subplot(1, 4, 4)\n",
    "plt.imshow(target_image, cmap='gray')\n",
    "plt.title('Ground Truth')\n",
    "plt.axis('off')\n",
    "plt.show()\n",
    "\n",
    "#Calculate loss\n",
    "loss = torch.nn.BCELoss()\n",
    "target = transforms.ToTensor()(target_image).unsqueeze(0).to(device)\n",
    "loss_value = loss(y, target)\n",
    "print('Loss:', loss_value.item())\n",
    "\n"
   ]
  }
 ],
 "metadata": {
  "kernelspec": {
   "display_name": "rl_ENV",
   "language": "python",
   "name": "python3"
  },
  "language_info": {
   "codemirror_mode": {
    "name": "ipython",
    "version": 3
   },
   "file_extension": ".py",
   "mimetype": "text/x-python",
   "name": "python",
   "nbconvert_exporter": "python",
   "pygments_lexer": "ipython3",
   "version": "3.10.15"
  }
 },
 "nbformat": 4,
 "nbformat_minor": 2
}
