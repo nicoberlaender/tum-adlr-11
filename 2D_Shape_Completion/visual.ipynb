{
 "cells": [
  {
   "cell_type": "code",
   "execution_count": 17,
   "metadata": {},
   "outputs": [],
   "source": [
    "import numpy as np\n",
    "import matplotlib.pyplot as plt\n",
    "import torch\n",
    "from PIL import Image\n",
    "import torchvision.transforms as transforms\n",
    "import numpy as np\n",
    "import torch\n",
    "import matplotlib.pyplot as plt\n",
    "import glob\n",
    "import random\n",
    "import os\n",
    "\n",
    "from utils import shoot_ray, action_to_border\n",
    "from dataset.preprocessing import pil_to_binary\n"
   ]
  },
  {
   "cell_type": "code",
   "execution_count": 18,
   "metadata": {},
   "outputs": [
    {
     "name": "stdout",
     "output_type": "stream",
     "text": [
      "Model loaded onto mps\n"
     ]
    },
    {
     "name": "stderr",
     "output_type": "stream",
     "text": [
      "/var/folders/5m/5hqxry713v946xwvr21xjx180000gn/T/ipykernel_46124/861646021.py:9: FutureWarning: You are using `torch.load` with `weights_only=False` (the current default value), which uses the default pickle module implicitly. It is possible to construct malicious pickle data which will execute arbitrary code during unpickling (See https://github.com/pytorch/pytorch/blob/main/SECURITY.md#untrusted-models for more details). In a future release, the default value for `weights_only` will be flipped to `True`. This limits the functions that could be executed during unpickling. Arbitrary objects will no longer be allowed to be loaded via this mode unless they are explicitly allowlisted by the user via `torch.serialization.add_safe_globals`. We recommend you start setting `weights_only=True` for any use case where you don't have full control of the loaded file. Please open an issue on GitHub for any issues related to this experimental feature.\n",
      "  model = torch.load(\"saved_models/model_full_old.pth\", map_location=device)\n"
     ]
    }
   ],
   "source": [
    "# Specify the device\n",
    "device = 'cpu'\n",
    "if torch.cuda.is_available():\n",
    "    device = 'cuda'\n",
    "elif torch.backends.mps.is_available():\n",
    "   device = 'mps'\n",
    "\n",
    "# Load the model and map it to the GPU\n",
    "model = torch.load(\"saved_models/model_full_old.pth\", map_location=device)\n",
    "#ray_model = torch.load(\"model_full_with_rays.pth\", map_location=device)\n",
    "\n",
    "# Set the model to evaluation mode\n",
    "model.eval()\n",
    "#ray_model.eval()\n",
    "\n",
    "print(\"Model loaded onto\", device)"
   ]
  },
  {
   "cell_type": "code",
   "execution_count": null,
   "metadata": {},
   "outputs": [
    {
     "name": "stdout",
     "output_type": "stream",
     "text": [
      "224 224\n",
      "Selected Border Point (x, y): 381\n",
      "Ray Shooting Angle: 356 degrees\n",
      "Ray Shooting Result: (x, y) = (113, 86)\n",
      "Angle for Ray: 356 degrees\n",
      "Output Image Shape: (224, 224)\n",
      "Binary Mask Shape: (224, 224)\n"
     ]
    },
    {
     "ename": "TypeError",
     "evalue": "'int' object is not subscriptable",
     "output_type": "error",
     "traceback": [
      "\u001b[0;31m---------------------------------------------------------------------------\u001b[0m",
      "\u001b[0;31mTypeError\u001b[0m                                 Traceback (most recent call last)",
      "Cell \u001b[0;32mIn[19], line 86\u001b[0m\n\u001b[1;32m     84\u001b[0m arrow_dx \u001b[38;5;241m=\u001b[39m arrow_length \u001b[38;5;241m*\u001b[39m np\u001b[38;5;241m.\u001b[39mcos(np\u001b[38;5;241m.\u001b[39mradians(angle))  \u001b[38;5;66;03m# Calculate arrow x component\u001b[39;00m\n\u001b[1;32m     85\u001b[0m arrow_dy \u001b[38;5;241m=\u001b[39m arrow_length \u001b[38;5;241m*\u001b[39m np\u001b[38;5;241m.\u001b[39msin(np\u001b[38;5;241m.\u001b[39mradians(angle))  \u001b[38;5;66;03m# Calculate arrow y component\u001b[39;00m\n\u001b[0;32m---> 86\u001b[0m plt\u001b[38;5;241m.\u001b[39marrow(\u001b[43mborder\u001b[49m\u001b[43m[\u001b[49m\u001b[38;5;241;43m1\u001b[39;49m\u001b[43m]\u001b[49m, border[\u001b[38;5;241m0\u001b[39m], arrow_dy, arrow_dx, head_width\u001b[38;5;241m=\u001b[39m\u001b[38;5;241m5\u001b[39m, head_length\u001b[38;5;241m=\u001b[39m\u001b[38;5;241m10\u001b[39m, fc\u001b[38;5;241m=\u001b[39m\u001b[38;5;124m'\u001b[39m\u001b[38;5;124mred\u001b[39m\u001b[38;5;124m'\u001b[39m, ec\u001b[38;5;241m=\u001b[39m\u001b[38;5;124m'\u001b[39m\u001b[38;5;124mred\u001b[39m\u001b[38;5;124m'\u001b[39m, label\u001b[38;5;241m=\u001b[39m\u001b[38;5;124m'\u001b[39m\u001b[38;5;124mAngle\u001b[39m\u001b[38;5;124m'\u001b[39m)\n\u001b[1;32m     88\u001b[0m \u001b[38;5;66;03m#plot image with rays\u001b[39;00m\n\u001b[1;32m     89\u001b[0m plt\u001b[38;5;241m.\u001b[39msubplot(\u001b[38;5;241m1\u001b[39m, \u001b[38;5;241m5\u001b[39m, \u001b[38;5;241m4\u001b[39m)\n",
      "\u001b[0;31mTypeError\u001b[0m: 'int' object is not subscriptable"
     ]
    },
    {
     "data": {
      "image/png": "[encoded data removed]",
      "text/plain": [
       "<Figure size 2000x500 with 1 Axes>"
      ]
     },
     "metadata": {},
     "output_type": "display_data"
    }
   ],
   "source": [
    "num_runs = 1\n",
    "image_files = glob.glob('./data_new/*.png')\n",
    "\n",
    "for run in range(num_runs):\n",
    "    # Randomly select one image\n",
    "    target_image_path = random.choice(image_files)\n",
    "    target_image = Image.open(target_image_path).convert('L')\n",
    "    target_image = pil_to_binary(target_image)\n",
    "    # Save target image to plots directory\n",
    "    os.makedirs(f\"./plots/{run}\", exist_ok=True)\n",
    "    plt.imsave(f\"./plots/{run}/target_image.png\", target_image, cmap='gray')\n",
    "\n",
    "    # Random agent simulation\n",
    "    # Assuming target_image is a numpy array or similar object\n",
    "    width, height = target_image.shape  # .shape is an attribute, not a method\n",
    "    print(width, height)\n",
    "    \n",
    "    num_samples = 15\n",
    "    i=0\n",
    "    \n",
    "    # Create a black image\n",
    "    image_black = np.zeros((width, height), dtype=np.int8)\n",
    "    image_with_rays = image_black.copy()\n",
    "    \n",
    "    while (i<num_samples):\n",
    "        # Generate random border and angle for ray shooting\n",
    "        border = np.random.randint(2 * (width + height))\n",
    "        angle = np.random.randint(360)\n",
    "        \n",
    "        # Perform ray shooting\n",
    "        pixels, hit = shoot_ray(target_image, border, angle)\n",
    "        \n",
    "        if hit is None:\n",
    "            continue\n",
    "        else:\n",
    "            image_black[hit[1], hit[0]] = 1\n",
    "            image_with_rays[hit[1], hit[0]] = 1\n",
    "            for pixel in pixels:\n",
    "                image_with_rays[pixel[1], pixel[0]] = -1\n",
    "    \n",
    "        print(f\"Selected Border Point (x, y): {border}\")\n",
    "        print(f\"Ray Shooting Angle: {angle} degrees\")\n",
    "    \n",
    "        print(f\"Ray Shooting Result: (x, y) = ({hit[1]}, {hit[0]})\")\n",
    "        print(f\"Angle for Ray: {angle} degrees\")\n",
    "        # Convert input array to a tensor suitable for the model\n",
    "        input_tensor = torch.tensor(image_black, dtype=torch.float32).unsqueeze(0)  # Add batch dimension\n",
    "        input_tensor_with_rays = torch.tensor(image_with_rays, dtype=torch.float32).unsqueeze(0)  # Add batch dimension\n",
    "        input_tensor = input_tensor.unsqueeze(1)  # Add channel dimension\n",
    "        input_tensor_with_rays = input_tensor_with_rays.unsqueeze(1)  # Add channel dimension\n",
    "        input_tensor = input_tensor.to(device)  # Move the tensor to the GPU\n",
    "        input_tensor_with_rays = input_tensor_with_rays.to(device)\n",
    "    \n",
    "        # Evaluate the model\n",
    "        with torch.no_grad():  # Disable gradient calculation for evaluation\n",
    "            output = model(input_tensor)  # Get the model's predictions\n",
    "            output_with_rays = model(input_tensor_with_rays)\n",
    "    \n",
    "        # Convert the model output to a probability map and binary mask\n",
    "        output_image = output[0][0].cpu().numpy()  # Get the first output channel as a numpy array\n",
    "        output_image_with_rays = output_with_rays[0][0].cpu().numpy()  # Get the first output channel as a numpy array\n",
    "        binary_output = (output_image > 0.5).astype(np.uint8)  # Thresholding to create a binary mask\n",
    "        binary_output_with_rays = (output_image_with_rays > 0.5).astype(np.uint8)  # Thresholding to create a binary mask\n",
    "    \n",
    "        # Print shape of the output image and binary output for clarity\n",
    "        print(f\"Output Image Shape: {output_image.shape}\")\n",
    "        print(f\"Binary Mask Shape: {binary_output.shape}\")\n",
    "    \n",
    "        # Visualization using Matplotlib\n",
    "        plt.figure(figsize=(20, 5))\n",
    "    \n",
    "        \n",
    "    \n",
    "        found_points = np.where(image_black == 1)\n",
    "        plt.subplot(1, 5, 1)\n",
    "        plt.imshow(binary_output, cmap='gray')\n",
    "        #plt.scatter(found_points[1], found_points[0], color='green', s=10, label='Found Points')\n",
    "        #if x is not None and y is not None:\n",
    "        #    plt.scatter(y, x, color='red', s=25, label='Current Point')\n",
    "        plt.title('Binary Output with Points')\n",
    "        plt.axis('off')\n",
    "        # Add an arrow for the angle\n",
    "        #arrow_length = 20  # Adjust the length of the arrow\n",
    "        #arrow_dx = arrow_length * np.cos(np.radians(angle))  # Calculate arrow x component\n",
    "        #arrow_dy = arrow_length * np.sin(np.radians(angle))  # Calculate arrow y component\n",
    "        #plt.arrow(border[1], border[0], arrow_dy, arrow_dx, head_width=5, head_length=10, fc='red', ec='red', label='Angle')\n",
    "\n",
    "        #plot image with rays\n",
    "        plt.subplot(1, 5, 4)\n",
    "        plt.imshow(binary_output_with_rays, cmap='gray')\n",
    "        plt.title('Binary Output with Rays')\n",
    "        plt.axis('off')\n",
    "\n",
    "        #probability heatmap with rays\n",
    "        plt.subplot(1, 5, 5)\n",
    "        plt.imshow(output_image_with_rays, cmap='jet')\n",
    "        plt.title('Probability Heatmap with Rays')\n",
    "        plt.axis('off')\n",
    "    \n",
    "        # Probability heatmap\n",
    "        plt.subplot(1, 5, 2)\n",
    "        plt.imshow(output_image, cmap='jet')\n",
    "        plt.title('Probability Heatmap')\n",
    "        plt.axis('off')\n",
    "    \n",
    "        plt.subplot(1, 5, 3)\n",
    "        plt.imshow(target_image, cmap='gray')\n",
    "        plt.title('Target Image')\n",
    "        plt.axis('off')\n",
    "\n",
    "        #Save the plot to /plots\n",
    "        plt.savefig(f\"./plots/{run}/{i}.png\", bbox_inches='tight', dpi=100)\n",
    "        plt.close()\n",
    "\n",
    "        i = i+1"
   ]
  }
 ],
 "metadata": {
  "kernelspec": {
   "display_name": "Python 3",
   "language": "python",
   "name": "python3"
  },
  "language_info": {
   "codemirror_mode": {
    "name": "ipython",
    "version": 3
   },
   "file_extension": ".py",
   "mimetype": "text/x-python",
   "name": "python",
   "nbconvert_exporter": "python",
   "pygments_lexer": "ipython3",
   "version": "3.11.10"
  }
 },
 "nbformat": 4,
 "nbformat_minor": 2
}
