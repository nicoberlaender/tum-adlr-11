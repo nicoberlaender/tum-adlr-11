{
 "cells": [
  {
   "cell_type": "markdown",
   "metadata": {},
   "source": [
    "Only needs to be run once when there is a folder /data_new containing segmaps and random samplings should be created from them. Samplings are saved in /data/samples."
   ]
  },
  {
   "cell_type": "code",
   "execution_count": null,
   "metadata": {},
   "outputs": [],
   "source": [
    "import os\n",
    "import random\n",
    "from dataset.preprocessing import pil_to_binary, get_surface_pixels, sample_pixels\n",
    "from PIL import Image\n",
    "import matplotlib.pyplot as plt\n",
    "import random"
   ]
  },
  {
   "cell_type": "code",
   "execution_count": null,
   "metadata": {},
   "outputs": [],
   "source": [
    "# Directory paths\n",
    "input_dir = './data_new'\n",
    "output_dir = './data'\n",
    "sample_dir = \"./data/samples\"\n",
    "\n",
    "# Ensure the output directory exists\n",
    "os.makedirs(output_dir, exist_ok=True)\n",
    "\n",
    "# Iterate through all files in the input directory\n",
    "for filename in random.sample(os.listdir(input_dir), 2500):\n",
    "    if filename.endswith('.png'):\n",
    "        image_number = filename.split('.')[0]\n",
    "        #create subfolder for image\n",
    "        os.makedirs(os.path.join(sample_dir, image_number), exist_ok=True)\n",
    "        # Load the image\n",
    "        image_path = os.path.join(input_dir, filename)\n",
    "        image = Image.open(image_path)\n",
    "        binary_image = pil_to_binary(image)\n",
    "\n",
    "        surface_pixels = get_surface_pixels(binary_image)\n",
    "\n",
    "        output_path = os.path.join(output_dir, filename)\n",
    "        plt.imsave(output_path, binary_image, cmap='gray')\n",
    "        \n",
    "        for i in range(400):\n",
    "            #random number between 1 and 15\n",
    "            rnd = random.randint(1,15)\n",
    "            sampled_points = sample_pixels(surface_pixels, rnd)\n",
    "            #save image to generated subfolder\n",
    "            sample_path = os.path.join(sample_dir, image_number, f'{i}.png')\n",
    "            plt.imsave(sample_path, sampled_points, cmap='gray')\n",
    "\n",
    "print(\"Sampling completed and saved to\", sample_dir)"
   ]
  }
 ],
 "metadata": {
  "kernelspec": {
   "display_name": "Python 3",
   "language": "python",
   "name": "python3"
  },
  "language_info": {
   "codemirror_mode": {
    "name": "ipython",
    "version": 3
   },
   "file_extension": ".py",
   "mimetype": "text/x-python",
   "name": "python",
   "nbconvert_exporter": "python",
   "pygments_lexer": "ipython3",
   "version": "3.11.10"
  }
 },
 "nbformat": 4,
 "nbformat_minor": 2
}
