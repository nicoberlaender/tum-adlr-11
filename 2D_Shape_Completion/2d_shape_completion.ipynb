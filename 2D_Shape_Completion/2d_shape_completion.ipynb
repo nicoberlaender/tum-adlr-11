{
 "cells": [
  {
   "cell_type": "markdown",
   "metadata": {},
   "source": [
    "Setup"
   ]
  },
  {
   "cell_type": "code",
   "execution_count": 1,
   "metadata": {},
   "outputs": [],
   "source": [
    "import numpy as np\n",
    "import matplotlib.pyplot as plt\n",
    "import os\n",
    "import torch\n",
    "import draw_shapes\n",
    "import preprocessing\n",
    "import hows_import\n",
    "import h5py\n",
    "\n",
    "# cuda on Nvidia, mps on Mac\n",
    "device = torch.device(\"cuda:0\" if torch.cuda.is_available() else \"mps\")"
   ]
  },
  {
   "cell_type": "markdown",
   "metadata": {},
   "source": [
    "Load segmentation map from dataset (HOWS_CL_25)\n",
    "The dataset should be at 2D_Shape_Completion/HOWS_CL_25"
   ]
  },
  {
   "cell_type": "code",
   "execution_count": null,
   "metadata": {},
   "outputs": [],
   "source": [
    "file = h5py.File(\"HOWS_CL_25/Images/apple/0/0a2af0e9d0d746169e712d2fddbd61ba/0.hdf5\", \"r\")\n",
    "segmap = file[\"segmap\"]\n",
    "np_segmap = np.array(segmap)\n",
    "binary_image = preprocessing.segmap_to_binary(np_segmap)\n",
    "surface = preprocessing.get_surface_pixels(binary_image)\n",
    "sampled_surface = preprocessing.sample_pixels(surface, 50)\n",
    "# visualize image, surface and sampled surface as images side by side\n",
    "fig, ax = plt.subplots(1, 3)\n",
    "ax[0].imshow(binary_image, cmap=\"gray\")\n",
    "ax[0].set_title(\"Binary Image\")\n",
    "ax[1].imshow(surface, cmap=\"gray\")\n",
    "ax[1].set_title(\"Surface\")\n",
    "ax[2].imshow(sampled_surface, cmap=\"gray\")\n",
    "ax[2].set_title(\"Sampled Surface\")\n",
    "#save binary_image to folder segmaps/apple/0/0a2af0e9d0d746169e712d2fddbd61ba/0.png\n",
    "image_path = \"segmaps/apple/0/0a2af0e9d0d746169e712d2fddbd61ba\"\n",
    "os.makedirs(image_path, exist_ok=True)\n",
    "plt.imsave(image_path + \"/0.png\", binary_image, cmap=\"gray\")"
   ]
  },
  {
   "cell_type": "markdown",
   "metadata": {},
   "source": [
    "Would be good to extract the segmentation maps from all images as this is basically the only data we need, no RGB images or depth maps...\n",
    "Next step: Train a modified U-Net model to predict a shape from a sparse set of sampled surface points.\n",
    "Code for creating the dataset:"
   ]
  },
  {
   "cell_type": "code",
   "execution_count": null,
   "metadata": {},
   "outputs": [],
   "source": [
    "# Function to process and save segmentation maps and surface samples\n",
    "def process_and_save(file_path, save_path, prefix):\n",
    "    file = h5py.File(file_path, \"r\")\n",
    "    segmap = file[\"segmap\"]\n",
    "    np_segmap = np.array(segmap)\n",
    "    binary_image = preprocessing.segmap_to_binary(np_segmap)\n",
    "    surface = preprocessing.get_surface_pixels(binary_image)\n",
    "    \n",
    "    # Save binary image\n",
    "    os.makedirs(save_path, exist_ok=True)\n",
    "    plt.imsave(os.path.join(save_path, f\"{prefix}_binary_image.png\"), binary_image, cmap=\"gray\")\n",
    "    \n",
    "    # Save surface image\n",
    "    plt.imsave(os.path.join(save_path, f\"{prefix}_surface.png\"), surface, cmap=\"gray\")\n",
    "    \n",
    "    # Save sampled surfaces\n",
    "    for num_samples in [10, 15, 20, 30, 50]:\n",
    "        sampled_surface = preprocessing.sample_pixels(surface, num_samples)\n",
    "        plt.imsave(os.path.join(save_path, f\"{prefix}_sampled_surface_{num_samples}.png\"), sampled_surface, cmap=\"gray\")\n",
    "\n",
    "# Walk through all .hdf5 files in the dataset directory\n",
    "dataset_dir = \"HOWS_CL_25/Images\"\n",
    "prefix = 0\n",
    "for root, dirs, files in os.walk(dataset_dir):\n",
    "    for file in files:\n",
    "        if file.endswith(\".hdf5\"):\n",
    "            file_path = os.path.join(root, file)\n",
    "            relative_path = os.path.relpath(root, dataset_dir)\n",
    "            save_path = os.path.join(\"data\", relative_path, str(prefix))\n",
    "            process_and_save(file_path, save_path, prefix)\n",
    "            prefix += 1"
   ]
  },
  {
   "cell_type": "code",
   "execution_count": 2,
   "metadata": {},
   "outputs": [],
   "source": [
    "import shutil\n",
    "\n",
    "# Define source and destination directories\n",
    "source_dir = \"data\"\n",
    "destination_dir = \"data_new\"\n",
    "\n",
    "# Create destination directory if it doesn't exist\n",
    "os.makedirs(destination_dir, exist_ok=True)\n",
    "\n",
    "# Walk through all files in the source directory\n",
    "for root, dirs, files in os.walk(source_dir):\n",
    "    for file in files:\n",
    "        if \"sampled\" not in file:\n",
    "            # Construct full file path\n",
    "            file_path = os.path.join(root, file)\n",
    "            # Copy file to the top-level destination directory\n",
    "            shutil.copy(file_path, os.path.join(destination_dir, file))\n"
   ]
  }
 ],
 "metadata": {
  "kernelspec": {
   "display_name": "Python 3",
   "language": "python",
   "name": "python3"
  },
  "language_info": {
   "codemirror_mode": {
    "name": "ipython",
    "version": 3
   },
   "file_extension": ".py",
   "mimetype": "text/x-python",
   "name": "python",
   "nbconvert_exporter": "python",
   "pygments_lexer": "ipython3",
   "version": "3.11.10"
  }
 },
 "nbformat": 4,
 "nbformat_minor": 2
}
