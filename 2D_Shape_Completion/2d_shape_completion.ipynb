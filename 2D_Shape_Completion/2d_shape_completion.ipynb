{
 "cells": [
  {
   "cell_type": "markdown",
   "metadata": {},
   "source": [
    "Setup"
   ]
  },
  {
   "cell_type": "code",
   "execution_count": null,
   "metadata": {},
   "outputs": [],
   "source": [
    "import numpy as np\n",
    "import matplotlib.pyplot as plt\n",
    "import os\n",
    "import torch\n",
    "import draw_shapes\n",
    "import preprocessing\n",
    "\n",
    "# cuda on Nvidia, mps on Mac\n",
    "device = torch.device(\"cuda:0\" if torch.cuda.is_available() else \"mps\")"
   ]
  },
  {
   "cell_type": "markdown",
   "metadata": {},
   "source": [
    "Setup Tensorboard"
   ]
  },
  {
   "cell_type": "markdown",
   "metadata": {},
   "source": [
    "from torch.utils.tensorboard import SummaryWriter\n",
    "\n",
    "writer = SummaryWriter('logs/introduction')\n",
    "\n",
    "%load_ext tensorboard\n",
    "%tensorboard --logdir ./ --port 6006"
   ]
  },
  {
   "cell_type": "markdown",
   "metadata": {},
   "source": [
    "Test preprocessing"
   ]
  },
  {
   "cell_type": "code",
   "execution_count": null,
   "metadata": {},
   "outputs": [],
   "source": [
    "#draw circle and get surface pixels\n",
    "circle = draw_shapes.draw_circle()\n",
    "image = preprocessing.binary_to_image(circle)\n",
    "surface = preprocessing.get_surface_pixels(circle)\n",
    "surface_image = preprocessing.binary_to_image(surface)\n",
    "#plot both images\n",
    "fig, ax = plt.subplots(1, 2)\n",
    "ax[0].imshow(image, cmap='gray')\n",
    "ax[0].set_title('Circle')\n",
    "ax[1].imshow(surface_image, cmap='gray')\n",
    "ax[1].set_title('Surface')\n",
    "plt.show()\n",
    "#now for donut\n",
    "donut = draw_shapes.draw_donut()\n",
    "image = preprocessing.binary_to_image(donut)\n",
    "surface = preprocessing.get_surface_pixels(donut)\n",
    "surface_image = preprocessing.binary_to_image(surface)\n",
    "#plot both images\n",
    "fig, ax = plt.subplots(1, 2)\n",
    "ax[0].imshow(image, cmap='gray')\n",
    "ax[0].set_title('Donut')\n",
    "ax[1].imshow(surface_image, cmap='gray')\n",
    "ax[1].set_title('Surface')\n",
    "plt.show()\n",
    "#now for spriale\n",
    "spiral = draw_shapes.draw_spiral()\n",
    "image = preprocessing.binary_to_image(spiral)\n",
    "surface = preprocessing.get_surface_pixels(spiral)\n",
    "surface_image = preprocessing.binary_to_image(surface)\n",
    "#plot both images\n",
    "fig, ax = plt.subplots(1, 2)\n",
    "ax[0].imshow(image, cmap='gray')\n",
    "ax[0].set_title('Spiral')\n",
    "ax[1].imshow(surface_image, cmap='gray')\n",
    "ax[1].set_title('Surface')\n",
    "plt.show()\n"
   ]
  }
 ],
 "metadata": {
  "kernelspec": {
   "display_name": "Python 3",
   "language": "python",
   "name": "python3"
  },
  "language_info": {
   "codemirror_mode": {
    "name": "ipython",
    "version": 3
   },
   "file_extension": ".py",
   "mimetype": "text/x-python",
   "name": "python",
   "nbconvert_exporter": "python",
   "pygments_lexer": "ipython3",
   "version": "3.11.10"
  }
 },
 "nbformat": 4,
 "nbformat_minor": 2
}
