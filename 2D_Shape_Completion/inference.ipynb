{
 "cells": [
  {
   "cell_type": "code",
   "execution_count": null,
   "metadata": {},
   "outputs": [],
   "source": [
    "import numpy as np\n",
    "import matplotlib.pyplot as plt\n",
    "import sys\n",
    "import os\n",
    "import torch\n",
    "from PIL import Image\n",
    "from dataset.preprocessing import sample_pixels, segmap_to_binary, binary_to_image\n",
    "import torchvision.transforms as transforms\n",
    "\n",
    "# Import the UNet class\n",
    "from model.my_unet_model import UNet\n"
   ]
  },
  {
   "cell_type": "code",
   "execution_count": null,
   "metadata": {},
   "outputs": [],
   "source": [
    "# Specify the device\n",
    "device = 'cpu'\n",
    "if torch.cuda.is_available():\n",
    "    device = 'cuda'\n",
    "elif torch.backends.mps.is_available():\n",
    "    device = 'mps'\n",
    "\n",
    "# Load the model and map it to the GPU\n",
    "model = torch.load(\"model_full.pth\", map_location=device)\n",
    "\n",
    "# Set the model to evaluation mode\n",
    "model.eval()\n",
    "\n",
    "print(\"Model loaded onto\", device)"
   ]
  },
  {
   "cell_type": "code",
   "execution_count": null,
   "metadata": {},
   "outputs": [],
   "source": [
    "# Load the test image\n",
    "image_path = r\"./data/samples/119/0.png\"\n",
    "image = Image.open(image_path).convert('L')\n",
    "image = np.array(image)\n",
    "target_image_path = r\"./data/119.png\"\n",
    "target_image = Image.open(target_image_path).convert('L')\n",
    "target_image = np.array(target_image)\n",
    "input = transforms.ToTensor()(image).unsqueeze(0).to(device)\n",
    "\n",
    "\n",
    "\n",
    "\n",
    "# Assuming the model is defined and loaded\n",
    "model.eval()  # Set the model to evaluation mode (disables dropout, batch norm updates)\n",
    "with torch.no_grad():  # Disable gradient calculation for evaluation\n",
    "    y = model(input)  # Get the model's predictions\n",
    "\n",
    "print(y.shape)\n",
    "\n",
    "y_image = y[0][0].cpu().numpy()\n",
    "binary_output = (y_image > 0.5).astype(np.uint8)\n",
    "#show image, probability heatmap and ground truth\n",
    "plt.figure(figsize=(12, 6))\n",
    "plt.subplot(1, 4, 1)\n",
    "plt.imshow(image, cmap='gray')\n",
    "plt.title('Input Image')\n",
    "plt.axis('off')\n",
    "plt.subplot(1, 4, 2)\n",
    "plt.imshow(y_image, cmap='jet')\n",
    "plt.title('Probability Heatmap')\n",
    "plt.axis('off')\n",
    "plt.subplot(1, 4, 3)\n",
    "plt.imshow(binary_output, cmap='gray')\n",
    "plt.title('Binary Output')\n",
    "plt.axis('off')\n",
    "plt.subplot(1, 4, 4)\n",
    "plt.imshow(target_image, cmap='gray')\n",
    "plt.title('Ground Truth')\n",
    "plt.axis('off')\n",
    "plt.show()\n",
    "\n",
    "#Calculate loss\n",
    "loss = torch.nn.BCELoss()\n",
    "target = transforms.ToTensor()(target_image).unsqueeze(0).to(device)\n",
    "loss_value = loss(y, target)\n",
    "print('Loss:', loss_value.item())"
   ]
  }
 ],
 "metadata": {
  "kernelspec": {
   "display_name": "Python 3",
   "language": "python",
   "name": "python3"
  },
  "language_info": {
   "codemirror_mode": {
    "name": "ipython",
    "version": 3
   },
   "file_extension": ".py",
   "mimetype": "text/x-python",
   "name": "python",
   "nbconvert_exporter": "python",
   "pygments_lexer": "ipython3",
   "version": "3.11.10"
  }
 },
 "nbformat": 4,
 "nbformat_minor": 2
}
