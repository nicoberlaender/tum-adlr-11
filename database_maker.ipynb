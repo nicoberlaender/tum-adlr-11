{
 "cells": [
  {
   "cell_type": "markdown",
   "metadata": {},
   "source": [
    "### Database of Shapes\n",
    "\n",
    "The goal of this project is to create a dataset of various shapes and utilize it to train a Convolutional Neural Network (CNN). The process can be broken down into three main steps:\n",
    "\n",
    "1. **Shape Generation**\n",
    "   - The first step is to generate a dataset with a variety of different shapes. These shapes can include basic geometric figures such as squares, rectangles, circles, triangles, and polygons.\n",
    "   - For each shape, we will vary parameters such as size, position, rotation to create diverse representations of each shape.\n",
    "\n",
    "2. **Random Combination of Shapes**\n",
    "   - To make the dataset more varied and complex, we will randomly combine these individual shapes. This could involve overlapping shapes, stacking them, or creating composite shapes. The randomness will introduce even more diversity, which will be useful for training the model to recognize complex patterns.\n",
    "   \n",
    "3. **Training a Model with Sparse Points**\n",
    "   - After generating and combining shapes, we will implement a model that receives only a partial part of a shape and a list of sparse points that can be added sequentially to the shape. The model will be tasked with completing the shape based on these partial inputs.\n",
    "   - With this approach, we can create a new dataset that includes partial shapes with missing points and labels, which can then be used to train a CNN capable of recognizing incomplete shapes and predicting the missing parts.\n",
    "\n",
    "By following these steps, we can create a robust dataset and a model that learns to handle incomplete shape information, paving the way for applications like shape completion, segmentation, and recognition in computer vision."
   ]
  },
  {
   "cell_type": "markdown",
   "metadata": {},
   "source": [
    "## Import Libraries\n",
    "\n",
    "To begin, we need to import several libraries that will aid in generating shapes, manipulating images, and training the model. Below is a list of essential libraries used for this project:\n"
   ]
  },
  {
   "cell_type": "code",
   "execution_count": 22,
   "metadata": {},
   "outputs": [],
   "source": [
    "import numpy as np\n",
    "import matplotlib.pyplot as plt\n",
    "from PIL import Image, ImageDraw\n",
    "import random\n",
    "import os\n",
    "from IPython.display import display\n",
    "import pandas as pd"
   ]
  },
  {
   "cell_type": "markdown",
   "metadata": {},
   "source": [
    "## 1.SHAPE GENERATION"
   ]
  },
  {
   "cell_type": "code",
   "execution_count": 2,
   "metadata": {},
   "outputs": [],
   "source": [
    "\n",
    "# Define directory to save images\n",
    "os.makedirs(\"Shape_dataset/Shape1\", exist_ok=True)"
   ]
  },
  {
   "cell_type": "code",
   "execution_count": 3,
   "metadata": {},
   "outputs": [],
   "source": [
    "# Define shape creation functions for outlined shapes\n",
    "def create_square_outline(size, vertices ):\n",
    "    img = Image.new(\"L\", (size, size), \"white\")  # \"L\" mode for grayscale\n",
    "    draw = ImageDraw.Draw(img)\n",
    "    draw.polygon(vertices, outline=\"black\", width=1)\n",
    "    return img\n",
    "\n",
    "def create_circle_outline(size, bbox , random_angle ):\n",
    "    img = Image.new(\"L\", (size, size), \"white\")\n",
    "    draw = ImageDraw.Draw(img)\n",
    "    draw.ellipse(bbox, outline=\"black\", width=1)\n",
    "\n",
    "    # Applica una rotazione all'immagine intera\n",
    "    rotated_img = img.rotate(random_angle, expand=True, fillcolor=\"white\")\n",
    "    return rotated_img\n",
    "    \n",
    "\n",
    "def create_triangle_outline(size, vertices):\n",
    "    img = Image.new(\"L\", (size, size), \"white\")\n",
    "    draw = ImageDraw.Draw(img)\n",
    "    draw.polygon(vertices, outline=\"black\", width=1)\n",
    "    return img"
   ]
  },
  {
   "cell_type": "markdown",
   "metadata": {},
   "source": [
    "Let's see the image for some random variables"
   ]
  },
  {
   "cell_type": "code",
   "execution_count": 4,
   "metadata": {},
   "outputs": [],
   "source": [
    "# Function to generate random parameters for each shape\n",
    "def generate_random_square(size):\n",
    "    # Randomly generate the top-left and top-right points for the top side\n",
    "    x1 = random.randint(0, size)\n",
    "    y1 = random.randint(0, size // 2)  # Keep the top points on the upper half of the image\n",
    "    x2 = random.randint(0, size)\n",
    "    y2 = random.randint(0, size // 2)\n",
    "    \n",
    "    # Randomly generate the bottom-left and bottom-right points for the bottom side\n",
    "    x3 = random.randint(0, size)\n",
    "    y3 = random.randint(size // 2, size)  # Keep the bottom points on the lower half of the image\n",
    "    x4 = random.randint(0, size)\n",
    "    y4 = random.randint(size // 2, size)\n",
    "    \n",
    "    # Sort the points to ensure that the left and right sides are in the correct order\n",
    "    top_left = (min(x1, x2), min(y1, y2))\n",
    "    top_right = (max(x1, x2), min(y1, y2))\n",
    "    bottom_left = (min(x3, x4), max(y3, y4))\n",
    "    bottom_right = (max(x3, x4), max(y3, y4))\n",
    "    \n",
    "    # The four points defining the trapezoid\n",
    "    trapezoid_points = [top_left, top_right, bottom_right, bottom_left]\n",
    "    \n",
    "    return trapezoid_points\n",
    "\n",
    "\n",
    "def generate_random_circle(size):\n",
    "    # Randomly choose a bounding box for the circle\n",
    "    x1, y1 = random.randint(10, size - 50), random.randint(10, size - 50)\n",
    "    x2, y2 = random.randint(x1 + 20, size - 10), random.randint(y1 + 20, size - 10)\n",
    "\n",
    "    # Angolo di rotazione casuale tra 0 e 360 gradi\n",
    "    rotation_angle = random.uniform(0, 360)\n",
    "    return [x1, y1, x2, y2] , rotation_angle\n",
    "\n",
    "def generate_random_triangle(size):\n",
    "    # Randomly choose three points for the triangle\n",
    "    x1, y1 = random.randint(10, size - 50), random.randint(10, size - 50)\n",
    "    x2, y2 = random.randint(x1 + 20, size - 10), random.randint(y1 + 20, size - 10)\n",
    "    x3, y3 = random.randint(10, size - 50), random.randint(10, size - 50)\n",
    "    return [(x1, y1), (x2, y2), (x3, y3)]\n"
   ]
  },
  {
   "cell_type": "code",
   "execution_count": 5,
   "metadata": {},
   "outputs": [
    {
     "data": {
      "image/jpeg": "[encoded data removed]",
      "image/png": "[encoded data removed]",
      "text/plain": [
       "<PIL.Image.Image image mode=L size=128x128>"
      ]
     },
     "metadata": {},
     "output_type": "display_data"
    },
    {
     "data": {
      "image/jpeg": "[encoded data removed]",
      "image/png": "[encoded data removed]",
      "text/plain": [
       "<PIL.Image.Image image mode=L size=146x146>"
      ]
     },
     "metadata": {},
     "output_type": "display_data"
    },
    {
     "data": {
      "image/jpeg": "[encoded data removed]",
      "image/png": "[encoded data removed]",
      "text/plain": [
       "<PIL.Image.Image image mode=L size=128x128>"
      ]
     },
     "metadata": {},
     "output_type": "display_data"
    }
   ],
   "source": [
    "# Generate random images for each shape\n",
    "size = 128\n",
    "\n",
    "# Random parameters for the square (rectangle)\n",
    "square_vertices = generate_random_square(size)\n",
    "square_img = create_square_outline(size, square_vertices)\n",
    "\n",
    "# Random parameters for the circle\n",
    "circle_bbox, random_angle = generate_random_circle(size)\n",
    "circle_img = create_circle_outline(size, circle_bbox , random_angle)\n",
    "\n",
    "# Random parameters for the triangle\n",
    "triangle_vertices = generate_random_triangle(size)\n",
    "triangle_img = create_triangle_outline(size, triangle_vertices)\n",
    "\n",
    "# Display all three images in the notebook\n",
    "display(square_img)\n",
    "display(circle_img)\n",
    "display(triangle_img)"
   ]
  },
  {
   "cell_type": "code",
   "execution_count": 6,
   "metadata": {},
   "outputs": [
    {
     "name": "stdout",
     "output_type": "stream",
     "text": [
      "100 images generated and saved to Shape_dataset/Shape1\n"
     ]
    }
   ],
   "source": [
    "# Function to generate images and save them\n",
    "def generate_images(num_images: int, size: int = 128, output_folder: str = \"generated_shapes\"):\n",
    "    # Create a folder to save images if it doesn't exist\n",
    "    os.makedirs(output_folder, exist_ok=True)  # Create folder if it doesn't exist\n",
    "\n",
    "    # Generate the specified number of images\n",
    "    for i in range(num_images):\n",
    "        shape_type = random.choice([\"trapezoid\", \"circle\"])  # Randomly choose shape type\n",
    "        \n",
    "        if shape_type == \"trapezoid\":\n",
    "            img = create_square_outline(size, vertices = generate_random_square(size))\n",
    "        else:\n",
    "            bbox, random_angle = generate_random_circle(size)\n",
    "            img = create_circle_outline(size, bbox, random_angle)\n",
    "        \n",
    "        # Save the image\n",
    "        # Generate random filename\n",
    "        filename = f\"image_{i+1}.png\"\n",
    "        # Set the full path where the image will be saved\n",
    "        file_path = os.path.join(output_folder, filename)\n",
    "\n",
    "        img.save(file_path)\n",
    "\n",
    "    print(f\"{num_images} images generated and saved to {output_folder}\")\n",
    "\n",
    "# Set the number of images to generate\n",
    "num_images = 100  # You can change this number as needed\n",
    "size = 128\n",
    "output_folder = \"Shape_dataset/Shape1\"\n",
    "# Generate and save images\n",
    "generate_images(num_images, size, output_folder)"
   ]
  },
  {
   "cell_type": "markdown",
   "metadata": {},
   "source": [
    "## 3. GET PARTIAL INFORMATION"
   ]
  },
  {
   "cell_type": "code",
   "execution_count": 7,
   "metadata": {},
   "outputs": [],
   "source": [
    "def trace_ray(img, center_x, center_y, angle, max_distance=500):\n",
    "    width, height = img.size\n",
    "    x, y = center_x, center_y\n",
    "\n",
    "    # Calcoliamo la direzione del raggio\n",
    "    dx = np.cos(angle)\n",
    "    dy = np.sin(angle)\n",
    "\n",
    "    # Traccia il raggio e fermati se incontra un punto nero\n",
    "    for _ in range(max_distance):\n",
    "        x += dx\n",
    "        y += dy\n",
    "\n",
    "        int_x = int(x)\n",
    "        int_y = int(y) \n",
    "\n",
    "        # Se il raggio esce fuori dai bordi dell'immagine, fermati\n",
    "        if not (0 <= x < width and 0 <= y < height):\n",
    "            end_x = x - dx\n",
    "            end_y = y -dy\n",
    "            break\n",
    "        \n",
    "        # Controlliamo il colore del pixel (0 significa nero, 255 significa bianco)\n",
    "        pixel = img.getpixel((int_x, int_y))\n",
    "        if pixel == 0:  # Trovato un punto nero, quindi fermiamo il raggio\n",
    "            end_x , end_y = int_x, int_y\n",
    "            break\n",
    "        \n",
    "        \n",
    "        if (img.getpixel((int_x-1, int_y))==0 and img.getpixel((int_x, int_y-1))==0):\n",
    "            end_x , end_y = int_x, int_y\n",
    "            break\n",
    "\n",
    "    return end_x, end_y"
   ]
  },
  {
   "cell_type": "code",
   "execution_count": null,
   "metadata": {},
   "outputs": [],
   "source": [
    "def create_partial_view(shape_img, num_rays=8, visibility_fraction=0.5 , cam_x = None, cam_y = None):\n",
    "    # Size of the image\n",
    "    width, height = shape_img.size\n",
    "\n",
    "    x_or_y = random.randint(0,1)\n",
    "    # Choose a random \"camera\" point within the bounds\n",
    "    if ( cam_x == None or cam_y== None):\n",
    "        if x_or_y == 0:\n",
    "            cam_x = random.randint(width // 4, 3 * width // 4)\n",
    "            cam_y = random.randint(0,1) * size\n",
    "        else :\n",
    "            cam_y = random.randint(height // 4, 3 * height // 4)\n",
    "            #so that camera is in the edge of the image\n",
    "            cam_x = random.randint(0,1) * size\n",
    "\n",
    "    # Create a mask to overlay on the shape image\n",
    "    mask = Image.new(\"L\", (width, height), \"black\")\n",
    "    draw = ImageDraw.Draw(mask)\n",
    "\n",
    "    # Define rays around the camera point\n",
    "    angles = np.linspace(0, 2 * np.pi, num_rays, endpoint=False)\n",
    "    for angle in angles[:int(num_rays * visibility_fraction)]:  # Limit rays by visibility fraction\n",
    "        end_x, end_y = trace_ray(shape_img, cam_x, cam_y, angle)\n",
    "        draw.line((cam_x, cam_y, end_x, end_y), fill=\"white\", width=1)\n",
    "\n",
    "    # Apply the mask to make only part of the shape visible\n",
    "    partial_img = Image.composite(shape_img, Image.new(\"L\", shape_img.size, \"white\"), mask)\n",
    "    return partial_img, cam_x, cam_y ,mask"
   ]
  },
  {
   "cell_type": "code",
   "execution_count": null,
   "metadata": {},
   "outputs": [
    {
     "data": {
      "image/jpeg": "[encoded data removed]",
      "image/png": "[encoded data removed]",
      "text/plain": [
       "<PIL.Image.Image image mode=L size=128x128>"
      ]
     },
     "metadata": {},
     "output_type": "display_data"
    },
    {
     "data": {
      "image/jpeg": "[encoded data removed]",
      "image/png": "[encoded data removed]",
      "text/plain": [
       "<PIL.Image.Image image mode=L size=182x182>"
      ]
     },
     "metadata": {},
     "output_type": "display_data"
    },
    {
     "data": {
      "image/jpeg": "[encoded data removed]",
      "image/png": "[encoded data removed]",
      "text/plain": [
       "<PIL.Image.Image image mode=L size=128x128>"
      ]
     },
     "metadata": {},
     "output_type": "display_data"
    },
    {
     "name": "stdout",
     "output_type": "stream",
     "text": [
      "Your camera point is  60 0\n"
     ]
    },
    {
     "data": {
      "image/jpeg": "[encoded data removed]",
      "image/png": "[encoded data removed]",
      "text/plain": [
       "<PIL.Image.Image image mode=L size=128x128>"
      ]
     },
     "metadata": {},
     "output_type": "display_data"
    }
   ],
   "source": [
    "# Generate random images for each shape\n",
    "size = 128\n",
    "\n",
    "# Random parameters for the square (rectangle)\n",
    "square_vertices = generate_random_square(size)\n",
    "square_img = create_square_outline(size, square_vertices)\n",
    "\n",
    "# Random parameters for the circle\n",
    "circle_bbox, random_angle = generate_random_circle(size)\n",
    "circle_img = create_circle_outline(size, circle_bbox , random_angle)\n",
    "\n",
    "# Random parameters for the triangle\n",
    "triangle_vertices = generate_random_triangle(size)\n",
    "triangle_img = create_triangle_outline(size, triangle_vertices)\n",
    "\n",
    "# Display all three images in the notebook\n",
    "display(square_img)\n",
    "display(circle_img)\n",
    "display(triangle_img)\n",
    "\n",
    "square_partial_img, cam_x, cam_y, mask = create_partial_view(square_img, 100, visibility_fraction=1)\n",
    "display(square_partial_img)\n",
    "square_partial_img.show()"
   ]
  },
  {
   "cell_type": "code",
   "execution_count": 18,
   "metadata": {},
   "outputs": [
    {
     "data": {
      "image/jpeg": "[encoded data removed]",
      "image/png": "[encoded data removed]",
      "text/plain": [
       "<PIL.Image.Image image mode=L size=128x128>"
      ]
     },
     "metadata": {},
     "output_type": "display_data"
    },
    {
     "name": "stdout",
     "output_type": "stream",
     "text": [
      "Your camera point is  128 37\n"
     ]
    },
    {
     "data": {
      "image/jpeg": "[encoded data removed]",
      "image/png": "[encoded data removed]",
      "text/plain": [
       "<PIL.Image.Image image mode=L size=128x128>"
      ]
     },
     "metadata": {},
     "output_type": "display_data"
    },
    {
     "data": {
      "image/jpeg": "[encoded data removed]",
      "image/png": "[encoded data removed]",
      "text/plain": [
       "<PIL.Image.Image image mode=L size=128x128>"
      ]
     },
     "metadata": {},
     "output_type": "display_data"
    }
   ],
   "source": [
    "display(square_img)\n",
    "square_partial_img, cam_x, cam_y, mask = create_partial_view(square_img, 2000, visibility_fraction=1, cam_x= cam_x, cam_y= cam_y)\n",
    "draw = ImageDraw.Draw(square_partial_img)\n",
    "draw.ellipse((cam_x - 2, cam_y - 2, cam_x + 2, cam_y + 2), fill=\"Red\")  # Radius of 2 pixels\n",
    "display(square_partial_img)\n",
    "display(mask)\n",
    "#square_partial_img.show()"
   ]
  },
  {
   "cell_type": "markdown",
   "metadata": {},
   "source": [
    "Now we generate the dataset creating the images of the partial view. To get the sparse data we will just uniformly sample from the groundtruth minus the partial view"
   ]
  },
  {
   "cell_type": "code",
   "execution_count": 31,
   "metadata": {},
   "outputs": [],
   "source": [
    "# Function to generate images and save them\n",
    "def generate_partial_images(\n",
    "        num_images: int,\n",
    "        input_folder: str = \"Shape1\",\n",
    "        output_img_folder: str = \"Partial_Shape\", \n",
    "        output_mask_folder:str = \"Masked_Shape\", \n",
    "        output_pos_folder : str = \"Camera_Position\"):\n",
    "    # Create a folder to save images if it doesn't exist\n",
    "    os.makedirs(output_img_folder, exist_ok=True)  # Create folder if it doesn't exist\n",
    "    os.makedirs(output_mask_folder, exist_ok=True)  # Create folder if it doesn't exist\n",
    "    os.makedirs(output_pos_folder, exist_ok=True)  # Create folder if it doesn't exist\n",
    "\n",
    "    camera_pos_data = []\n",
    "    # Generate the specified number of images\n",
    "    for i in range(num_images):\n",
    "\n",
    "        # Get filename\n",
    "        filename = f\"image_{i+1}.png\"\n",
    "        # Set the full path where the image will be saved\n",
    "        file_path = os.path.join(input_folder, filename)\n",
    "\n",
    "        img = Image.open(file_path)\n",
    "\n",
    "        img, cam_x, cam_y, mask = create_partial_view(img, 2000, visibility_fraction=1)\n",
    "        \n",
    "\n",
    "        # Save the image\n",
    "        # Set the full path where the image will be saved\n",
    "        file_path = os.path.join(output_img_folder, filename)\n",
    "        img.save(file_path)\n",
    "\n",
    "        file_path = os.path.join(output_mask_folder, filename)\n",
    "        mask.save(file_path)\n",
    "\n",
    "        camera_pos_data.append({\"image_name\": filename, \"cam_x\": cam_x, \"cam_y\": cam_y})\n",
    "\n",
    "    # Save metadata to CSV file\n",
    "    camera_pos_dataframe = pd.DataFrame(camera_pos_data)\n",
    "    camera_pos_dataframe.to_csv(os.path.join(output_pos_folder, \"metadata.csv\"), index=False)\n",
    "\n",
    "    print(f\"{num_images} images generated and saved to {output_img_folder}\")"
   ]
  },
  {
   "cell_type": "code",
   "execution_count": 29,
   "metadata": {},
   "outputs": [
    {
     "name": "stdout",
     "output_type": "stream",
     "text": [
      "Your camera point is  128 60\n",
      "Your camera point is  0 67\n",
      "Your camera point is  128 63\n",
      "Your camera point is  128 89\n",
      "Your camera point is  73 128\n",
      "Your camera point is  128 62\n",
      "Your camera point is  0 77\n",
      "Your camera point is  55 0\n",
      "Your camera point is  0 55\n",
      "Your camera point is  76 0\n",
      "Your camera point is  63 128\n",
      "Your camera point is  104 0\n",
      "Your camera point is  128 66\n",
      "Your camera point is  75 128\n",
      "Your camera point is  64 128\n",
      "Your camera point is  128 105\n",
      "Your camera point is  132 0\n",
      "Your camera point is  0 36\n",
      "Your camera point is  128 81\n",
      "Your camera point is  63 128\n",
      "Your camera point is  128 87\n",
      "Your camera point is  72 128\n",
      "Your camera point is  0 96\n",
      "Your camera point is  128 61\n",
      "Your camera point is  108 0\n",
      "Your camera point is  128 95\n",
      "Your camera point is  0 99\n",
      "Your camera point is  128 79\n",
      "Your camera point is  128 62\n",
      "Your camera point is  0 81\n",
      "Your camera point is  77 128\n",
      "Your camera point is  42 0\n",
      "Your camera point is  128 43\n",
      "Your camera point is  0 88\n",
      "Your camera point is  67 0\n",
      "Your camera point is  60 128\n",
      "Your camera point is  56 0\n",
      "Your camera point is  128 93\n",
      "Your camera point is  128 129\n",
      "Your camera point is  63 128\n",
      "Your camera point is  0 104\n",
      "Your camera point is  58 128\n",
      "Your camera point is  0 45\n",
      "Your camera point is  0 99\n",
      "Your camera point is  56 128\n",
      "Your camera point is  0 48\n",
      "Your camera point is  0 50\n",
      "Your camera point is  128 67\n",
      "Your camera point is  0 38\n",
      "Your camera point is  56 128\n",
      "Your camera point is  128 69\n",
      "Your camera point is  128 66\n",
      "Your camera point is  0 38\n",
      "Your camera point is  128 52\n",
      "Your camera point is  45 0\n",
      "Your camera point is  68 128\n",
      "Your camera point is  49 0\n",
      "Your camera point is  128 78\n",
      "Your camera point is  93 128\n",
      "Your camera point is  128 109\n",
      "Your camera point is  95 128\n",
      "Your camera point is  78 0\n",
      "Your camera point is  0 128\n",
      "Your camera point is  0 90\n",
      "Your camera point is  52 128\n",
      "Your camera point is  0 69\n",
      "Your camera point is  128 60\n",
      "Your camera point is  0 91\n",
      "Your camera point is  0 82\n",
      "Your camera point is  94 128\n",
      "Your camera point is  90 0\n",
      "Your camera point is  53 128\n",
      "Your camera point is  54 128\n",
      "Your camera point is  128 43\n",
      "Your camera point is  66 0\n",
      "Your camera point is  42 0\n",
      "Your camera point is  0 49\n",
      "Your camera point is  128 70\n",
      "Your camera point is  128 48\n",
      "Your camera point is  47 128\n",
      "Your camera point is  33 0\n",
      "Your camera point is  91 0\n",
      "Your camera point is  45 0\n",
      "Your camera point is  128 63\n",
      "Your camera point is  83 128\n",
      "Your camera point is  92 0\n",
      "Your camera point is  128 85\n",
      "Your camera point is  0 93\n",
      "Your camera point is  128 44\n",
      "Your camera point is  83 0\n",
      "Your camera point is  53 0\n",
      "Your camera point is  41 128\n",
      "Your camera point is  0 74\n",
      "Your camera point is  66 0\n",
      "Your camera point is  89 128\n",
      "Your camera point is  81 128\n",
      "Your camera point is  87 128\n",
      "Your camera point is  0 108\n",
      "Your camera point is  0 112\n",
      "Your camera point is  131 0\n",
      "100 images generated and saved to Shape_dataset/Shape1\n"
     ]
    }
   ],
   "source": [
    "# Set the number of images to generate\n",
    "num_images = 100  # You can change this number as needed\n",
    "size = 128\n",
    "input_folder = \"Shape_dataset/Shape1\"\n",
    "output_img_folder = \"Shape_dataset/Partial_Shape\"\n",
    "output_mask_folder = \"Shape_dataset/Masked_Shape\"        \n",
    "output_pos_folder  = \"Shape_dataset/Camera_Position\"\n",
    "# Generate and save images\n",
    "generate_images(num_images,input_folder= input_folder, output_img_folder=output_img_folder, output_mask_folder=output_mask_folder, output_pos_folder=output_pos_folder)"
   ]
  }
 ],
 "metadata": {
  "kernelspec": {
   "display_name": "pytorch3d",
   "language": "python",
   "name": "python3"
  },
  "language_info": {
   "codemirror_mode": {
    "name": "ipython",
    "version": 3
   },
   "file_extension": ".py",
   "mimetype": "text/x-python",
   "name": "python",
   "nbconvert_exporter": "python",
   "pygments_lexer": "ipython3",
   "version": "3.8.20"
  }
 },
 "nbformat": 4,
 "nbformat_minor": 2
}
